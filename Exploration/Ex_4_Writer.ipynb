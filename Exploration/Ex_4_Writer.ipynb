{
 "cells": [
  {
   "cell_type": "code",
   "execution_count": 1,
   "id": "75d185c6",
   "metadata": {
    "scrolled": true
   },
   "outputs": [
    {
     "name": "stdout",
     "output_type": "stream",
     "text": [
      "데이터 크기: 187088\n",
      "Examples:\n",
      " [\"Now I've heard there was a secret chord\", 'That David played, and it pleased the Lord', \"But you don't really care for music, do you?\"]\n"
     ]
    }
   ],
   "source": [
    "import os, re  # 파일경로 및 처리, 정규표현식사용(search,findall,macht등)\n",
    "import numpy as np #대규모 수학연산\n",
    "import glob\n",
    "import tensorflow as tf #데이터의 배열,딥러닝 구현 (뉴런생성,훈련등)\n",
    "from sklearn.model_selection import train_test_split\n",
    "\n",
    "txt_file_path = os.getenv('HOME')+'/aiffel/lyricist/data/lyrics/*'\n",
    "\n",
    "txt_list = glob.glob(txt_file_path)\n",
    "\n",
    "raw_corpus = []\n",
    "\n",
    "# 여러개의 txt 파일을 모두 읽어서 raw_corpus 에 담습니다.\n",
    "for txt_file in txt_list:\n",
    "    with open(txt_file, \"r\") as f:\n",
    "        raw = f.read().splitlines()\n",
    "        raw_corpus.extend(raw)\n",
    "\n",
    "print(\"데이터 크기:\", len(raw_corpus))\n",
    "print(\"Examples:\\n\", raw_corpus[:3])"
   ]
  },
  {
   "cell_type": "code",
   "execution_count": 2,
   "id": "be188c25",
   "metadata": {},
   "outputs": [],
   "source": [
    "# 입력된 문장을\n",
    "#     1. 소문자로 바꾸고, 양쪽 공백을 지웁니다\n",
    "#     2. 특수문자 양쪽에 공백을 넣고\n",
    "#     3. 여러개의 공백은 하나의 공백으로 바꿉니다\n",
    "#     4. a-zA-Z?.!,¿가 아닌 모든 문자를 하나의 공백으로 바꿉니다\n",
    "#     5. 다시 양쪽 공백을 지웁니다\n",
    "#     6. 문장 시작에는 <start>, 끝에는 <end>를 추가합니다\n",
    "# 이 순서로 처리해주면 문제가 되는 상황을 방지할 수 있겠네요!\n",
    "\n",
    "def preprocess_sentence(sentence):\n",
    "    sentence = sentence.lower().strip()  #1\n",
    "    sentence = re.sub(r\"([?.!,¿])\", r\" \\1 \", sentence)#2\n",
    "    sentence = re.sub(r'[\" \"]+', \" \", sentence)#3\n",
    "    sentence = re.sub(r\"[^a-zA-Z?.!,¿]+\", \" \", sentence)#4\n",
    "    sentence = sentence.strip()#5\n",
    "    sentence = '<start> ' + sentence + ' <end>'#6\n",
    "    \n",
    "    if len(sentence.split()) > 15: #총길이가 15를 넘으면 공백으로 바꿔준다.\n",
    "        sentence = \"\"\n",
    "        \n",
    "    return sentence\n",
    "# 정규표현식이 파라미터가 무엇이 들어가고 어떠한 역할을하나\n",
    "\n",
    "\n"
   ]
  },
  {
   "cell_type": "code",
   "execution_count": 3,
   "id": "e24b83cc",
   "metadata": {},
   "outputs": [
    {
     "name": "stdout",
     "output_type": "stream",
     "text": [
      "[[   2   51    5 ...    0    0    0]\n",
      " [   2   17 3146 ...    0    0    0]\n",
      " [   2   34    7 ...   43    3    0]\n",
      " ...\n",
      " [   2    5  120 ...    0    0    0]\n",
      " [   2  256  196 ...   12    3    0]\n",
      " [   2    7   35 ...    0    0    0]] <keras_preprocessing.text.Tokenizer object at 0x7f426facd070>\n"
     ]
    }
   ],
   "source": [
    "# 여기에 정제된 문장을 모을겁니다\n",
    "corpus = []\n",
    "\n",
    "for sentence in raw_corpus:\n",
    "    # 우리가 원하지 않는 문장은 건너뜁니다\n",
    "    if len(sentence) == 0: continue\n",
    "    if len(sentence.split()) >= 12: continue   \n",
    "    if sentence[-1] == \":\": continue\n",
    "        \n",
    "    # 정제를 하고 담아주세요\n",
    "    preprocessed_sentence = preprocess_sentence(sentence)\n",
    "    corpus.append(preprocessed_sentence)\n",
    "    \n",
    "\n",
    "\n",
    "# 데이터 토큰화 함수\n",
    "def tokenize(corpus):\n",
    "    # 15000단어를 기억할 수 있는 tokenizer를 만들겁니다\n",
    "    # 우리는 이미 문장을 정제했으니 filters가 필요없어요\n",
    "    # 15000단어에 포함되지 못한 단어는 '<unk>' 로 바꿀거에요\n",
    "    \n",
    "    tokenizer = tf.keras.preprocessing.text.Tokenizer(\n",
    "        num_words=12000,\n",
    "        filters=' ',\n",
    "        oov_token=\"<unk>\"\n",
    "    )\n",
    "    # corpus를 이용해 tokenizer 내부의 단어장을 완성합니다\n",
    "    tokenizer.fit_on_texts(corpus)\n",
    "    # 준비한 tokenizer를 이용해 corpus를 Tensor로 변환합니다\n",
    "    tensor = tokenizer.texts_to_sequences(corpus)\n",
    "    # 입력 데이터의 시퀀스 길이를 일정하게 맞춰줍니다\n",
    "    # 만약 시퀀스가 짧다면 문장 뒤에 패딩을 붙여 길이를 맞춰줍니다.\n",
    "    # 문장 앞에 패딩을 붙여 길으를 맞추고 싶다면 padding='pre'를 사용합니다.\n",
    "    tensor = tf.keras.preprocessing.sequence.pad_sequences(tensor, maxlen=15, padding='post')\n",
    "    \n",
    "    print(tensor,tokenizer)\n",
    "    return tensor, tokenizer\n",
    "\n",
    "tensor, tokenizer = tokenize(corpus)"
   ]
  },
  {
   "cell_type": "code",
   "execution_count": 4,
   "id": "fd2ebdbd",
   "metadata": {
    "scrolled": false
   },
   "outputs": [
    {
     "name": "stdout",
     "output_type": "stream",
     "text": [
      "Source Train: (121675, 14)\n",
      "Target Train: (121675, 14)\n"
     ]
    }
   ],
   "source": [
    "# tensor에서 마지막 토큰을 잘라내서 소스 문장을 생성합니다\n",
    "# 마지막 토큰은 <end>가 아니라 <pad>일 가능성이 높습니다.\n",
    "src_input = tensor[:, :-1]  \n",
    "# tensor에서 <start>를 잘라내서 타겟 문장을 생성합니다.\n",
    "tgt_input = tensor[:, 1:]    \n",
    "\n",
    "#train ,val 데이터 값 split\n",
    "enc_train, enc_val, dec_train, dec_val = train_test_split(src_input,\n",
    "                                                          tgt_input,\n",
    "                                                          test_size=0.2,\n",
    "                                                          shuffle=True,\n",
    "                                                          random_state=34)\n",
    "#분류된 데이터 확인\n",
    "print(\"Source Train:\", enc_train.shape)\n",
    "print(\"Target Train:\", dec_train.shape)\n"
   ]
  },
  {
   "cell_type": "code",
   "execution_count": 5,
   "id": "21753897",
   "metadata": {},
   "outputs": [
    {
     "data": {
      "text/plain": [
       "<BatchDataset shapes: ((256, 14), (256, 14)), types: (tf.int32, tf.int32)>"
      ]
     },
     "execution_count": 5,
     "metadata": {},
     "output_type": "execute_result"
    }
   ],
   "source": [
    "#모델 생성\n",
    "BUFFER_SIZE = len(src_input) #입력값의 길이 크기의 버퍼\n",
    "BATCH_SIZE = 256\n",
    "steps_per_epoch = len(src_input) // BATCH_SIZE\n",
    "\n",
    "VOCAB_SIZE = tokenizer.num_words + 1 #생성한 사전의 단어 15000개와 <pad>포한한 15000+1개의 크기\n",
    "\n",
    "#데이터 소스로부터 데이터셋 생성\n",
    "dataset = tf.data.Dataset.from_tensor_slices((src_input, tgt_input)) \n",
    "dataset = dataset.shuffle(BUFFER_SIZE)\n",
    "dataset = dataset.batch(BATCH_SIZE, drop_remainder=True)\n",
    "dataset"
   ]
  },
  {
   "cell_type": "code",
   "execution_count": 6,
   "id": "f09e5bf0",
   "metadata": {},
   "outputs": [
    {
     "data": {
      "text/plain": [
       "<tf.Tensor: shape=(256, 14, 12001), dtype=float32, numpy=\n",
       "array([[[-6.90162415e-05, -9.29166927e-05, -1.21971680e-05, ...,\n",
       "         -3.68250858e-06,  5.93190780e-05,  2.75775237e-04],\n",
       "        [ 5.43765163e-05, -1.08063628e-04,  3.39067745e-04, ...,\n",
       "         -1.19736018e-04,  5.33084203e-05,  2.70043791e-04],\n",
       "        [-7.25257269e-06,  6.01785223e-06,  7.15591421e-04, ...,\n",
       "         -3.56419972e-04,  1.41216267e-04,  4.07147076e-04],\n",
       "        ...,\n",
       "        [-1.43505586e-03,  2.96873366e-03,  3.52545059e-04, ...,\n",
       "         -7.85973272e-04, -6.14626682e-04, -1.89613434e-04],\n",
       "        [-1.52850687e-03,  3.15520819e-03,  1.77560098e-04, ...,\n",
       "         -7.84791657e-04, -6.80675672e-04, -1.88082267e-04],\n",
       "        [-1.58217666e-03,  3.30188544e-03, -2.98748978e-06, ...,\n",
       "         -7.98921450e-04, -7.45906553e-04, -1.80574338e-04]],\n",
       "\n",
       "       [[-6.90162415e-05, -9.29166927e-05, -1.21971680e-05, ...,\n",
       "         -3.68250858e-06,  5.93190780e-05,  2.75775237e-04],\n",
       "        [-2.10255792e-04,  1.09952241e-04, -3.18826824e-05, ...,\n",
       "         -2.03099014e-04,  3.41868843e-04,  5.33283455e-04],\n",
       "        [-2.50494370e-04,  3.67355824e-04,  2.93454741e-05, ...,\n",
       "         -4.81430878e-04,  4.30634449e-04,  5.24632866e-04],\n",
       "        ...,\n",
       "        [-1.10660083e-04,  1.03283394e-03, -5.60070679e-04, ...,\n",
       "         -7.42902746e-04, -1.08627346e-03, -4.90260660e-04],\n",
       "        [ 3.75097152e-05,  1.12262857e-03, -7.61668431e-04, ...,\n",
       "         -8.35802814e-04, -1.25771039e-03, -7.13690009e-04],\n",
       "        [ 3.42229585e-04,  1.04584382e-03, -8.73388373e-04, ...,\n",
       "         -8.65908049e-04, -1.54488173e-03, -8.62620887e-04]],\n",
       "\n",
       "       [[-6.90162415e-05, -9.29166927e-05, -1.21971680e-05, ...,\n",
       "         -3.68250858e-06,  5.93190780e-05,  2.75775237e-04],\n",
       "        [ 1.07545755e-04,  1.40703763e-04,  6.30397108e-06, ...,\n",
       "         -8.04099400e-05,  2.29635276e-04,  4.33538837e-04],\n",
       "        [ 2.14772488e-04,  4.14280395e-04,  1.35148424e-04, ...,\n",
       "         -3.23489017e-04,  3.12385644e-04,  3.83252715e-04],\n",
       "        ...,\n",
       "        [-4.99262387e-05,  1.54351466e-03,  3.30235722e-04, ...,\n",
       "         -1.39142200e-03,  3.60881531e-04, -9.87385516e-04],\n",
       "        [-1.81343697e-04,  1.79083692e-03,  2.70930439e-04, ...,\n",
       "         -1.21178362e-03,  1.58206822e-04, -9.27420217e-04],\n",
       "        [-3.79837176e-04,  2.08175764e-03,  2.09139092e-04, ...,\n",
       "         -1.03748182e-03, -1.83662578e-05, -8.54838639e-04]],\n",
       "\n",
       "       ...,\n",
       "\n",
       "       [[-6.90162415e-05, -9.29166927e-05, -1.21971680e-05, ...,\n",
       "         -3.68250858e-06,  5.93190780e-05,  2.75775237e-04],\n",
       "        [-7.10433369e-06, -3.09427014e-05, -1.58772644e-04, ...,\n",
       "          6.47134075e-05,  4.12206755e-05,  2.64549053e-05],\n",
       "        [ 1.37364608e-04, -8.51026271e-05, -3.91807362e-06, ...,\n",
       "          1.27491934e-04,  3.69991787e-04,  3.35520133e-04],\n",
       "        ...,\n",
       "        [-6.17549231e-04,  1.72954751e-03,  3.39266226e-05, ...,\n",
       "         -3.51244322e-04, -7.30929605e-04, -5.70232398e-04],\n",
       "        [-8.65218753e-04,  2.07366771e-03,  1.35793613e-04, ...,\n",
       "         -3.40759754e-04, -7.54900975e-04, -6.11565367e-04],\n",
       "        [-1.08214049e-03,  2.37593590e-03,  1.78253074e-04, ...,\n",
       "         -3.45757056e-04, -7.74002052e-04, -6.23445434e-04]],\n",
       "\n",
       "       [[-6.90162415e-05, -9.29166927e-05, -1.21971680e-05, ...,\n",
       "         -3.68250858e-06,  5.93190780e-05,  2.75775237e-04],\n",
       "        [-6.43410531e-05, -2.67789932e-04,  2.16433750e-06, ...,\n",
       "         -1.96875306e-04,  3.52321658e-04,  5.46317955e-04],\n",
       "        [ 3.82298549e-06, -2.71383760e-04,  1.96625668e-04, ...,\n",
       "         -2.28264078e-04,  7.09931890e-04,  5.50930912e-04],\n",
       "        ...,\n",
       "        [-3.68390814e-04, -1.01123796e-05, -1.74976361e-04, ...,\n",
       "         -1.23853752e-04,  6.33438525e-04,  1.43108817e-04],\n",
       "        [-6.10184390e-04,  5.28271310e-04, -1.02375190e-04, ...,\n",
       "         -1.27094419e-04,  5.04435855e-04,  2.20468282e-05],\n",
       "        [-8.80744308e-04,  1.07457896e-03, -3.86822176e-05, ...,\n",
       "         -1.37012437e-04,  3.86881613e-04, -7.96000095e-05]],\n",
       "\n",
       "       [[-6.90162415e-05, -9.29166927e-05, -1.21971680e-05, ...,\n",
       "         -3.68250858e-06,  5.93190780e-05,  2.75775237e-04],\n",
       "        [-1.37227122e-04, -2.14023657e-05,  7.61355113e-05, ...,\n",
       "         -1.32079804e-04,  1.84918081e-05,  4.66456026e-04],\n",
       "        [-1.22166035e-04,  7.47710001e-05, -6.36361001e-05, ...,\n",
       "         -4.25324048e-04,  7.97412140e-05,  4.67853446e-04],\n",
       "        ...,\n",
       "        [-4.50145075e-04,  1.91309210e-03, -2.75636266e-05, ...,\n",
       "         -5.30480174e-04, -6.70762965e-04,  5.60354267e-04],\n",
       "        [-7.11571949e-04,  2.30503012e-03,  6.05006098e-05, ...,\n",
       "         -5.24544797e-04, -8.09065474e-04,  4.32923378e-04],\n",
       "        [-9.36642406e-04,  2.63492228e-03,  9.03856780e-05, ...,\n",
       "         -5.30987512e-04, -9.11348558e-04,  3.25501664e-04]]],\n",
       "      dtype=float32)>"
      ]
     },
     "execution_count": 6,
     "metadata": {},
     "output_type": "execute_result"
    }
   ],
   "source": [
    "###########인공지능 학습시키기\n",
    "class TextGenerator(tf.keras.Model):\n",
    "    def __init__(self, vocab_size, embedding_size, hidden_size):\n",
    "        super().__init__()\n",
    "        \n",
    "        self.embedding = tf.keras.layers.Embedding(vocab_size, embedding_size)\n",
    "        self.rnn_1 = tf.keras.layers.LSTM(hidden_size, return_sequences=True)\n",
    "        self.rnn_2 = tf.keras.layers.LSTM(hidden_size, return_sequences=True)\n",
    "        self.linear = tf.keras.layers.Dense(vocab_size)\n",
    "        \n",
    "    def call(self, x):\n",
    "        out = self.embedding(x)\n",
    "        out = self.rnn_1(out)\n",
    "        out = self.rnn_2(out)\n",
    "        out = self.linear(out)\n",
    "        \n",
    "        return out\n",
    "    \n",
    "embedding_size = 256\n",
    "hidden_size = 1024\n",
    "model = TextGenerator(tokenizer.num_words + 1, embedding_size , hidden_size)\n",
    "\n",
    "# 데이터셋에서 데이터 한 배치만 불러오는 방법입니다.\n",
    "for src_sample, tgt_sample in dataset.take(1): break\n",
    "\n",
    "# 한 배치만 불러온 데이터를 모델에 넣어봅니다\n",
    "model(src_sample)"
   ]
  },
  {
   "cell_type": "code",
   "execution_count": 7,
   "id": "23e23ceb",
   "metadata": {},
   "outputs": [
    {
     "name": "stdout",
     "output_type": "stream",
     "text": [
      "Epoch 1/10\n",
      "594/594 [==============================] - 95s 153ms/step - loss: 3.3416\n",
      "Epoch 2/10\n",
      "594/594 [==============================] - 99s 167ms/step - loss: 2.8613\n",
      "Epoch 3/10\n",
      "594/594 [==============================] - 105s 177ms/step - loss: 2.6928\n",
      "Epoch 4/10\n",
      "594/594 [==============================] - 108s 182ms/step - loss: 2.5651\n",
      "Epoch 5/10\n",
      "594/594 [==============================] - 108s 182ms/step - loss: 2.4525\n",
      "Epoch 6/10\n",
      "594/594 [==============================] - 108s 182ms/step - loss: 2.3484\n",
      "Epoch 7/10\n",
      "594/594 [==============================] - 108s 182ms/step - loss: 2.2517\n",
      "Epoch 8/10\n",
      "594/594 [==============================] - 108s 182ms/step - loss: 2.1608\n",
      "Epoch 9/10\n",
      "594/594 [==============================] - 108s 182ms/step - loss: 2.0752\n",
      "Epoch 10/10\n",
      "594/594 [==============================] - 108s 182ms/step - loss: 1.9944\n"
     ]
    },
    {
     "data": {
      "text/plain": [
       "<keras.callbacks.History at 0x7f426e37bca0>"
      ]
     },
     "execution_count": 7,
     "metadata": {},
     "output_type": "execute_result"
    }
   ],
   "source": [
    "# optimizer와 loss\n",
    "# https://www.tensorflow.org/api_docs/python/tf/keras/optimizers\n",
    "# https://www.tensorflow.org/api_docs/python/tf/keras/losses\n",
    "# 양이 상당히 많은 편이니 지금 보는 것은 추천하지 않습니다\n",
    "optimizer = tf.keras.optimizers.Adam()\n",
    "loss = tf.keras.losses.SparseCategoricalCrossentropy(\n",
    "    from_logits=True,\n",
    "    reduction='none'\n",
    ")\n",
    "\n",
    "model.compile(loss=loss, optimizer=optimizer)\n",
    "model.fit(dataset, epochs=10)"
   ]
  },
  {
   "cell_type": "code",
   "execution_count": 8,
   "id": "3c118332",
   "metadata": {},
   "outputs": [],
   "source": [
    "def generate_text(model, tokenizer, init_sentence=\"<start>\", max_len=20):\n",
    "    # 테스트를 위해서 입력받은 init_sentence도 일단 텐서로 변환합니다.\n",
    "    test_input = tokenizer.texts_to_sequences([init_sentence])\n",
    "    test_tensor = tf.convert_to_tensor(test_input, dtype=tf.int64)\n",
    "    end_token = tokenizer.word_index[\"<end>\"]\n",
    "    \n",
    "    # 텍스트를 실제로 생성할때는 루프를 돌면서 단어 하나씩 생성해야 합니다.\n",
    "    while True:\n",
    "        predict = model(test_tensor) # 입력받은 문장의 텐서를 입력합니다.\n",
    "        predict_word = tf.argmax(tf.nn.softmax(predict, axis=-1), axis=-1)[:, -1] \n",
    "        # 우리 모델이 예측한 마지막 단어가 바로 새롭게 생성한 단어가 됩니다.\n",
    "        \n",
    "        # 우리 모델이 새롭계 예측한 단어를 입력 문장의 뒤에 붙여줍니다. \n",
    "        test_tensor = tf.concat([test_tensor, tf.expand_dims(predict_word, axis=0)], axis=-1)\n",
    "        \n",
    "        # 우리 모델이 <end>를 예측했거나, max_len에 도달하지 않았다면 while 루프를 돌면서 다음 단어를 예측해야합니다.\n",
    "        if predict_word.numpy()[0] == end_token:\n",
    "            break\n",
    "        if test_tensor.shape[1] >= max_len:\n",
    "            break\n",
    "    \n",
    "    generated = \"\"\n",
    "    \n",
    "    # 생성된 tensor 안에 있는 word index를 tokenizer.index_word 사전을 통해 실제 단어로 하나씩 변환합니다.\n",
    "    for word_index in test_tensor[0].numpy():\n",
    "        generated += tokenizer.index_word[word_index] + \" \"\n",
    "    \n",
    "    return generated # 이것이 최종적으로 모델이 생성한 자연어 문장입니다."
   ]
  },
  {
   "cell_type": "code",
   "execution_count": 9,
   "id": "eb3c2747",
   "metadata": {},
   "outputs": [
    {
     "data": {
      "text/plain": [
       "'<start> love is a beautiful thing <end> '"
      ]
     },
     "execution_count": 9,
     "metadata": {},
     "output_type": "execute_result"
    }
   ],
   "source": [
    "generate_text(model, tokenizer, init_sentence=\"<start> love\",  max_len=20)"
   ]
  },
  {
   "cell_type": "code",
   "execution_count": null,
   "id": "cb96869f",
   "metadata": {},
   "outputs": [],
   "source": []
  }
 ],
 "metadata": {
  "kernelspec": {
   "display_name": "Python 3 (ipykernel)",
   "language": "python",
   "name": "python3"
  },
  "language_info": {
   "codemirror_mode": {
    "name": "ipython",
    "version": 3
   },
   "file_extension": ".py",
   "mimetype": "text/x-python",
   "name": "python",
   "nbconvert_exporter": "python",
   "pygments_lexer": "ipython3",
   "version": "3.9.7"
  }
 },
 "nbformat": 4,
 "nbformat_minor": 5
}
