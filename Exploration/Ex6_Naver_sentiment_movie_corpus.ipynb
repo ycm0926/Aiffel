{
 "cells": [
  {
   "cell_type": "markdown",
   "id": "1e334500",
   "metadata": {},
   "source": [
    "# 네이버 영화리뷰 텍스트 감성분석"
   ]
  },
  {
   "cell_type": "markdown",
   "id": "0e0b3729",
   "metadata": {},
   "source": [
    "\n",
    "3가지 이상의 모델이 성공적으로 시도됨\n",
    "\n",
    "gensim의 유사단어 찾기를 활용하여 자체학습한 \n",
    "임베딩과 사전학습 임베딩을 적절히 분석함\n",
    "\n",
    "네이버 영화리뷰 데이터 감성분석 정확도를 85% 이상 달성함"
   ]
  },
  {
   "cell_type": "markdown",
   "id": "77b5e4c6",
   "metadata": {},
   "source": [
    "## 1) 데이터 준비와 확인"
   ]
  },
  {
   "cell_type": "code",
   "execution_count": 1,
   "id": "0aaa56f2",
   "metadata": {},
   "outputs": [
    {
     "data": {
      "text/html": [
       "<div>\n",
       "<style scoped>\n",
       "    .dataframe tbody tr th:only-of-type {\n",
       "        vertical-align: middle;\n",
       "    }\n",
       "\n",
       "    .dataframe tbody tr th {\n",
       "        vertical-align: top;\n",
       "    }\n",
       "\n",
       "    .dataframe thead th {\n",
       "        text-align: right;\n",
       "    }\n",
       "</style>\n",
       "<table border=\"1\" class=\"dataframe\">\n",
       "  <thead>\n",
       "    <tr style=\"text-align: right;\">\n",
       "      <th></th>\n",
       "      <th>id</th>\n",
       "      <th>document</th>\n",
       "      <th>label</th>\n",
       "    </tr>\n",
       "  </thead>\n",
       "  <tbody>\n",
       "    <tr>\n",
       "      <th>0</th>\n",
       "      <td>9976970</td>\n",
       "      <td>아 더빙.. 진짜 짜증나네요 목소리</td>\n",
       "      <td>0</td>\n",
       "    </tr>\n",
       "    <tr>\n",
       "      <th>1</th>\n",
       "      <td>3819312</td>\n",
       "      <td>흠...포스터보고 초딩영화줄....오버연기조차 가볍지 않구나</td>\n",
       "      <td>1</td>\n",
       "    </tr>\n",
       "    <tr>\n",
       "      <th>2</th>\n",
       "      <td>10265843</td>\n",
       "      <td>너무재밓었다그래서보는것을추천한다</td>\n",
       "      <td>0</td>\n",
       "    </tr>\n",
       "    <tr>\n",
       "      <th>3</th>\n",
       "      <td>9045019</td>\n",
       "      <td>교도소 이야기구먼 ..솔직히 재미는 없다..평점 조정</td>\n",
       "      <td>0</td>\n",
       "    </tr>\n",
       "    <tr>\n",
       "      <th>4</th>\n",
       "      <td>6483659</td>\n",
       "      <td>사이몬페그의 익살스런 연기가 돋보였던 영화!스파이더맨에서 늙어보이기만 했던 커스틴 ...</td>\n",
       "      <td>1</td>\n",
       "    </tr>\n",
       "  </tbody>\n",
       "</table>\n",
       "</div>"
      ],
      "text/plain": [
       "         id                                           document  label\n",
       "0   9976970                                아 더빙.. 진짜 짜증나네요 목소리      0\n",
       "1   3819312                  흠...포스터보고 초딩영화줄....오버연기조차 가볍지 않구나      1\n",
       "2  10265843                                  너무재밓었다그래서보는것을추천한다      0\n",
       "3   9045019                      교도소 이야기구먼 ..솔직히 재미는 없다..평점 조정      0\n",
       "4   6483659  사이몬페그의 익살스런 연기가 돋보였던 영화!스파이더맨에서 늙어보이기만 했던 커스틴 ...      1"
      ]
     },
     "execution_count": 1,
     "metadata": {},
     "output_type": "execute_result"
    }
   ],
   "source": [
    "import pandas as pd\n",
    "import os\n",
    "import tensorflow as tf\n",
    "import matplotlib.pyplot as plt\n",
    "\n",
    "# 데이터를 읽어봅시다. \n",
    "train_data = pd.read_table('~/aiffel/sentiment_classification/data/ratings_train.txt')\n",
    "test_data = pd.read_table('~/aiffel/sentiment_classification/data/ratings_test.txt')\n",
    "\n",
    "train_data.head()"
   ]
  },
  {
   "cell_type": "markdown",
   "id": "febab415",
   "metadata": {},
   "source": [
    "## 2) 데이터로더 구성  \n",
    "\n",
    "* 데이터의 중복 제거\n",
    "* NaN 결측치 제거\n",
    "* 한국어 토크나이저로 토큰화\n",
    "* 불용어(Stopwords) 제거\n",
    "* 사전word_to_index 구성\n",
    "* 텍스트 스트링을 사전 인덱스 스트링으로 변환\n",
    "* X_train, y_train, X_test, y_test, word_to_index 리턴\n"
   ]
  },
  {
   "cell_type": "code",
   "execution_count": 2,
   "id": "38d18793",
   "metadata": {},
   "outputs": [],
   "source": [
    "from konlpy.tag import Mecab\n",
    "import numpy as np\n",
    "from collections import Counter\n",
    "\n",
    "tokenizer = Mecab()\n",
    "stopwords = ['의','가','이','은','들','는','좀','잘','걍','과','도','를','으로','자','에','와','한','하다']\n",
    "\n",
    "def load_data(train_data, test_data, num_words=10000):\n",
    "    train_data.drop_duplicates(subset=['document'], inplace=True)\n",
    "    train_data = train_data.dropna(how = 'any') \n",
    "    test_data.drop_duplicates(subset=['document'], inplace=True)\n",
    "    test_data = test_data.dropna(how = 'any') \n",
    "    \n",
    "    X_train = []\n",
    "    for sentence in train_data['document']:\n",
    "        temp_X = tokenizer.morphs(sentence) # 토큰화\n",
    "        temp_X = [word for word in temp_X if not word in stopwords] # 불용어 제거\n",
    "        X_train.append(temp_X)\n",
    "\n",
    "    X_test = []\n",
    "    for sentence in test_data['document']:\n",
    "        temp_X = tokenizer.morphs(sentence) # 토큰화\n",
    "        temp_X = [word for word in temp_X if not word in stopwords] # 불용어 제거\n",
    "        X_test.append(temp_X)\n",
    "    \n",
    "    words = np.concatenate(X_train).tolist()\n",
    "    counter = Counter(words)\n",
    "    counter = counter.most_common(10000-4)\n",
    "    vocab = ['', '', '', ''] + [key for key, _ in counter] #단어장 패딩용,문장시작,사전에없는,사용하지않는\n",
    "    word_to_index = {word:index for index, word in enumerate(vocab)}\n",
    "        \n",
    "    def wordlist_to_indexlist(wordlist):\n",
    "        return [word_to_index[word] if word in word_to_index else word_to_index[''] for word in wordlist]\n",
    "        \n",
    "    X_train = list(map(wordlist_to_indexlist, X_train))\n",
    "    X_test = list(map(wordlist_to_indexlist, X_test))\n",
    "        \n",
    "    return X_train, np.array(list(train_data['label'])), X_test, np.array(list(test_data['label'])), word_to_index\n",
    "    \n",
    "X_train, y_train, X_test, y_test, word_to_index = load_data(train_data, test_data) "
   ]
  },
  {
   "cell_type": "code",
   "execution_count": 3,
   "id": "310d1e47",
   "metadata": {},
   "outputs": [],
   "source": [
    "index_to_word = {index:word for word, index in word_to_index.items()}"
   ]
  },
  {
   "cell_type": "code",
   "execution_count": 4,
   "id": "73bfdb08",
   "metadata": {},
   "outputs": [],
   "source": [
    "# 문장 1개를 활용할 딕셔너리와 함께 주면, 단어 인덱스 리스트 벡터로 변환해 주는 함수입니다. \n",
    "# 단, 모든 문장은 <BOS>로 시작하는 것으로 합니다. \n",
    "def get_encoded_sentence(sentence, word_to_index):\n",
    "    return [word_to_index['<BOS>']]+[word_to_index[word] if word in word_to_index else word_to_index['<UNK>'] for word in sentence.split()]\n",
    "\n",
    "# 여러 개의 문장 리스트를 한꺼번에 단어 인덱스 리스트 벡터로 encode해 주는 함수입니다. \n",
    "def get_encoded_sentences(sentences, word_to_index):\n",
    "    return [get_encoded_sentence(sentence, word_to_index) for sentence in sentences]\n",
    "\n",
    "# 숫자 벡터로 encode된 문장을 원래대로 decode하는 함수입니다. \n",
    "def get_decoded_sentence(encoded_sentence, index_to_word):\n",
    "    return ' '.join(index_to_word[index] if index in index_to_word else '<UNK>' for index in encoded_sentence[1:])  #[1:]를 통해 <BOS>를 제외\n",
    "\n",
    "# 여러 개의 숫자 벡터로 encode된 문장을 한꺼번에 원래대로 decode하는 함수입니다. \n",
    "def get_decoded_sentences(encoded_sentences, index_to_word):\n",
    "    return [get_decoded_sentence(encoded_sentence, index_to_word) for encoded_sentence in encoded_sentences]"
   ]
  },
  {
   "cell_type": "markdown",
   "id": "8c29c75e",
   "metadata": {},
   "source": [
    "## 3) 모델 구성을 위한 데이터 분석 및 가공\n",
    "\n",
    "* 데이터셋 내 문장 길이 분포\n",
    "* 적절한 최대 문장 길이 지정\n",
    "* keras.preprocessing.sequence.pad_sequences 을 활용한 패딩 추가"
   ]
  },
  {
   "cell_type": "code",
   "execution_count": 5,
   "id": "e5eec39b",
   "metadata": {
    "scrolled": true
   },
   "outputs": [
    {
     "name": "stdout",
     "output_type": "stream",
     "text": [
      "훈련 샘플 개수: 146182, 테스트 개수: 49157\n"
     ]
    }
   ],
   "source": [
    "print(\"훈련 샘플 개수: {}, 테스트 개수: {}\".format(len(X_train), len(X_test)))"
   ]
  },
  {
   "cell_type": "code",
   "execution_count": 6,
   "id": "29da79a2",
   "metadata": {},
   "outputs": [
    {
     "name": "stdout",
     "output_type": "stream",
     "text": [
      "[32, 74, 919, 4, 4, 39, 228, 20, 33, 748]\n",
      "라벨:  0\n",
      "1번째 리뷰 문장 길이:  10\n",
      "2번째 리뷰 문장 길이:  17\n"
     ]
    }
   ],
   "source": [
    "print(X_train[0])  # 1번째 리뷰데이터\n",
    "print('라벨: ', y_train[0])  # 1번째 리뷰데이터의 라벨\n",
    "print('1번째 리뷰 문장 길이: ', len(X_train[0]))\n",
    "print('2번째 리뷰 문장 길이: ', len(X_train[1]))"
   ]
  },
  {
   "cell_type": "code",
   "execution_count": 7,
   "id": "be8e7fdd",
   "metadata": {},
   "outputs": [
    {
     "name": "stdout",
     "output_type": "stream",
     "text": [
      ".\n",
      "1909\n"
     ]
    }
   ],
   "source": [
    "#실제 인코딩 인덱스는 제공된 word_to_index에서 index 기준으로 3씩 뒤로 밀려 있습니다.  \n",
    "#word_to_index = {k:(v+3) for k,v in word_to_index.items()}\n",
    "\n",
    "# 처음 몇 개 인덱스는 사전에 정의되어 있습니다\n",
    "word_to_index[\"<PAD>\"] = 0\n",
    "word_to_index[\"<BOS>\"] = 1\n",
    "word_to_index[\"<UNK>\"] = 2  # unknown\n",
    "word_to_index[\"<UNUSED>\"] = 3\n",
    "\n",
    "index_to_word = {index:word for word, index in word_to_index.items()}\n",
    "\n",
    "print(index_to_word[4])     \n",
    "print(word_to_index['the'])\n",
    "# print(word_to_index)"
   ]
  },
  {
   "cell_type": "code",
   "execution_count": 8,
   "id": "265e7654",
   "metadata": {},
   "outputs": [
    {
     "name": "stdout",
     "output_type": "stream",
     "text": [
      "더 빙 . . 진짜 짜증 나 네요 목소리\n",
      "라벨:  0\n"
     ]
    }
   ],
   "source": [
    "print(get_decoded_sentence(X_train[0], index_to_word))\n",
    "print('라벨: ', y_train[0])  # 1번째 리뷰데이터의 라벨"
   ]
  },
  {
   "cell_type": "code",
   "execution_count": 9,
   "id": "94b5ef45",
   "metadata": {},
   "outputs": [
    {
     "name": "stdout",
     "output_type": "stream",
     "text": [
      "문장 길이 평균:  15.96940191154864\n",
      "문장 길이 최대:  116\n",
      "문장 길이 표준편차:  12.843571191092\n",
      "pad_sequences maxlen:  41\n",
      "전체 문장의 0.9342988343341575%가 maxlen 설정값 이내에 포함된다.\n"
     ]
    }
   ],
   "source": [
    "#전체 데이터셋의 분포를 확인\n",
    "total_data_text = list(X_train) + list(X_test)\n",
    "\n",
    "num_tokens = [len(tokens) for tokens in total_data_text]\n",
    "num_tokens = np.array(num_tokens)\n",
    "\n",
    "# 문장 길이의 평균, 최대값, 표준편차 계산\n",
    "print('문장 길이 평균: ', np.mean(num_tokens))\n",
    "print('문장 길이 최대: ', np.max(num_tokens))\n",
    "print('문장 길이 표준편차: ', np.std(num_tokens))\n",
    "\n",
    "# 예시로, 최대 길이를 *(평균 + 2 * 표준편차)로 설정할 경우\n",
    "max_tokens = np.mean(num_tokens) + 2 * np.std(num_tokens)\n",
    "maxlen = int(max_tokens)\n",
    "print('pad_sequences maxlen: ', maxlen)\n",
    "print('전체 문장의 {}%가 maxlen 설정값 이내에 포함된다.'.format(np.sum(num_tokens < max_tokens) / len(num_tokens)))"
   ]
  },
  {
   "cell_type": "code",
   "execution_count": 10,
   "id": "3f0210d7",
   "metadata": {
    "scrolled": false
   },
   "outputs": [
    {
     "name": "stdout",
     "output_type": "stream",
     "text": [
      "(146182, 41)\n"
     ]
    }
   ],
   "source": [
    "X_train = tf.keras.preprocessing.sequence.pad_sequences(X_train,\n",
    "                                                        value=word_to_index[\"<PAD>\"],\n",
    "                                                        padding='pre', # 혹은 'post'\n",
    "                                                        maxlen=maxlen)\n",
    "X_test = tf.keras.preprocessing.sequence.pad_sequences(X_test,\n",
    "                                                       value=word_to_index[\"<PAD>\"],\n",
    "                                                       padding='pre', # 혹은 'post'\n",
    "                                                       maxlen=maxlen)\n",
    "print(X_train.shape)"
   ]
  },
  {
   "cell_type": "markdown",
   "id": "021c1b0a",
   "metadata": {},
   "source": [
    "## 4) 모델 구성 및 validation set 구성\n",
    "\n",
    "#### 3가지 이상"
   ]
  },
  {
   "cell_type": "code",
   "execution_count": 11,
   "id": "b2edb8a5",
   "metadata": {},
   "outputs": [],
   "source": [
    "vocab_size = len(index_to_word)  # 어휘 사전의 크기입니다(\n",
    "word_vector_dim = 300\n",
    "# 워드 벡터의 차원 수 (변경 가능한 하이퍼파라미터)\n",
    "# 단어 하나를 표현하는 임베딩 벡터의 차원 수입니다. \n"
   ]
  },
  {
   "cell_type": "markdown",
   "id": "4f629a15",
   "metadata": {},
   "source": [
    "## 4) 1. RNN\n",
    "\n",
    "Recurrent Neural Network(RNN)입니다. RNN은 시퀀스(Sequence) 형태의 데이터를 처리하기에 최적인 모델로 알려져 있습니다.\n",
    "RNN은 시간의 흐름에 따라 새롭게 들어오는 입력에 따라 변하는 현재 상태를 묘사하는 state machine으로 설계되었있습니다."
   ]
  },
  {
   "cell_type": "code",
   "execution_count": 12,
   "id": "d935fbc4",
   "metadata": {
    "scrolled": false
   },
   "outputs": [
    {
     "name": "stdout",
     "output_type": "stream",
     "text": [
      "Model: \"sequential\"\n",
      "_________________________________________________________________\n",
      "Layer (type)                 Output Shape              Param #   \n",
      "=================================================================\n",
      "embedding (Embedding)        (None, None, 300)         3000000   \n",
      "_________________________________________________________________\n",
      "lstm (LSTM)                  (None, 8)                 9888      \n",
      "_________________________________________________________________\n",
      "dense (Dense)                (None, 8)                 72        \n",
      "_________________________________________________________________\n",
      "dense_1 (Dense)              (None, 1)                 9         \n",
      "=================================================================\n",
      "Total params: 3,009,969\n",
      "Trainable params: 3,009,969\n",
      "Non-trainable params: 0\n",
      "_________________________________________________________________\n"
     ]
    }
   ],
   "source": [
    "# RNN\n",
    "\n",
    "# model 설계 - 딥러닝 모델 코드를 직접 작성해 주세요.\n",
    "RNN_model = tf.keras.Sequential()\n",
    "RNN_model.add(tf.keras.layers.Embedding(vocab_size, word_vector_dim, input_shape=(None,)))\n",
    "RNN_model.add(tf.keras.layers.LSTM(8))   # 가장 널리 쓰이는 RNN인 LSTM 레이어를 사용하였습니다. 이때 LSTM state 벡터의 차원수는 8로 하였습니다. (변경 가능)\n",
    "RNN_model.add(tf.keras.layers.Dense(8, activation='relu'))\n",
    "RNN_model.add(tf.keras.layers.Dense(1, activation='sigmoid'))  # 최종 출력은 긍정/부정을 나타내는 1dim 입니다.\n",
    "RNN_model.summary()"
   ]
  },
  {
   "cell_type": "markdown",
   "id": "6e7ba0c4",
   "metadata": {},
   "source": [
    "## 4) 2. CNN\n",
    "\n",
    "1-D CNN은 문장 전체를 한꺼번에 한 방향으로 길이 7짜리 필터로 스캐닝(합성곱의방향 가로 한방향 출력벡터) 하면서 7단어 이내에서 발견되는 특징을 추출하여 그것으로 문장을 분류하는 방식으로 사용됩니다. 이 방식도 텍스트를 처리하는 데 RNN 못지않은 효율을 보여줍니다.\n",
    "그리고 CNN 계열은 RNN 계열보다 병렬처리가 효율적이기 때문에 학습 속도도 훨씬 빠르게 진행된다는 장점이 있습니다."
   ]
  },
  {
   "cell_type": "code",
   "execution_count": 13,
   "id": "94d941e6",
   "metadata": {
    "scrolled": false
   },
   "outputs": [
    {
     "name": "stdout",
     "output_type": "stream",
     "text": [
      "Model: \"sequential_1\"\n",
      "_________________________________________________________________\n",
      "Layer (type)                 Output Shape              Param #   \n",
      "=================================================================\n",
      "embedding_1 (Embedding)      (None, None, 300)         3000000   \n",
      "_________________________________________________________________\n",
      "conv1d (Conv1D)              (None, None, 128)         268928    \n",
      "_________________________________________________________________\n",
      "max_pooling1d (MaxPooling1D) (None, None, 128)         0         \n",
      "_________________________________________________________________\n",
      "conv1d_1 (Conv1D)            (None, None, 32)          28704     \n",
      "_________________________________________________________________\n",
      "global_max_pooling1d (Global (None, 32)                0         \n",
      "_________________________________________________________________\n",
      "dense_2 (Dense)              (None, 8)                 264       \n",
      "_________________________________________________________________\n",
      "dense_3 (Dense)              (None, 1)                 9         \n",
      "=================================================================\n",
      "Total params: 3,297,905\n",
      "Trainable params: 3,297,905\n",
      "Non-trainable params: 0\n",
      "_________________________________________________________________\n"
     ]
    }
   ],
   "source": [
    "# CNN \n",
    "\n",
    "cnn_model = tf.keras.Sequential()\n",
    "cnn_model.add(tf.keras.layers.Embedding(vocab_size, word_vector_dim, input_shape=(None,)))\n",
    "cnn_model.add(tf.keras.layers.Conv1D(128, 7, activation='relu'))\n",
    "cnn_model.add(tf.keras.layers.MaxPooling1D(5))\n",
    "cnn_model.add(tf.keras.layers.Conv1D(32, 7, activation='relu'))\n",
    "cnn_model.add(tf.keras.layers.GlobalMaxPooling1D())\n",
    "cnn_model.add(tf.keras.layers.Dense(8, activation='relu'))\n",
    "cnn_model.add(tf.keras.layers.Dense(1, activation='sigmoid'))  # 최종 출력은 긍정/부정을 나타내는 1dim 입니다.\n",
    "\n",
    "cnn_model.summary()"
   ]
  },
  {
   "cell_type": "markdown",
   "id": "689e0bf5",
   "metadata": {},
   "source": [
    "## 4) 3. GlobalMaxPooling1D\n",
    "\n",
    "레이어 하나만 사용하는 방법\n",
    "이 방식은 전체 문장 중에서 단 하나의 가장 중요한 단어만 피처로 추출하여 그것으로 문장의 긍정/부정을 평가하는 방식이라고 생각할 수 있는데, 의외로 성능이 잘 나올 수도 있습니다."
   ]
  },
  {
   "cell_type": "code",
   "execution_count": 14,
   "id": "f9592e9a",
   "metadata": {},
   "outputs": [
    {
     "name": "stdout",
     "output_type": "stream",
     "text": [
      "Model: \"sequential_2\"\n",
      "_________________________________________________________________\n",
      "Layer (type)                 Output Shape              Param #   \n",
      "=================================================================\n",
      "embedding_2 (Embedding)      (None, None, 300)         3000000   \n",
      "_________________________________________________________________\n",
      "global_max_pooling1d_1 (Glob (None, 300)               0         \n",
      "_________________________________________________________________\n",
      "dense_4 (Dense)              (None, 8)                 2408      \n",
      "_________________________________________________________________\n",
      "dense_5 (Dense)              (None, 1)                 9         \n",
      "=================================================================\n",
      "Total params: 3,002,417\n",
      "Trainable params: 3,002,417\n",
      "Non-trainable params: 0\n",
      "_________________________________________________________________\n"
     ]
    }
   ],
   "source": [
    "# GlobalMaxPooling1D as GMP\n",
    "\n",
    "GMP_model = tf.keras.Sequential()\n",
    "GMP_model.add(tf.keras.layers.Embedding(vocab_size, word_vector_dim, input_shape=(None,)))\n",
    "GMP_model.add(tf.keras.layers.GlobalMaxPooling1D())\n",
    "GMP_model.add(tf.keras.layers.Dense(8, activation='relu'))\n",
    "GMP_model.add(tf.keras.layers.Dense(1, activation='sigmoid'))  # 최종 출력은 긍정/부정을 나타내는 1dim 입니다.\n",
    "\n",
    "GMP_model.summary()"
   ]
  },
  {
   "cell_type": "code",
   "execution_count": 15,
   "id": "f745b5a0",
   "metadata": {},
   "outputs": [
    {
     "name": "stdout",
     "output_type": "stream",
     "text": [
      "(126182, 41)\n",
      "(126182,)\n"
     ]
    }
   ],
   "source": [
    "# validation set 20000 분리\n",
    "x_val = X_train[:20000]   \n",
    "y_val = y_train[:20000]\n",
    "\n",
    "# validation set을 제외한 나머지\n",
    "partial_x_train = X_train[20000:]  \n",
    "partial_y_train = y_train[20000:]\n",
    "\n",
    "print(partial_x_train.shape)\n",
    "print(partial_y_train.shape)"
   ]
  },
  {
   "cell_type": "markdown",
   "id": "535b9f55",
   "metadata": {},
   "source": [
    "### 5) 모델 훈련 개시\n"
   ]
  },
  {
   "cell_type": "code",
   "execution_count": 16,
   "id": "eeb3f0a1",
   "metadata": {},
   "outputs": [
    {
     "name": "stdout",
     "output_type": "stream",
     "text": [
      "Epoch 1/10\n",
      "247/247 [==============================] - 5s 9ms/step - loss: 0.4363 - accuracy: 0.8069 - val_loss: 0.3466 - val_accuracy: 0.8504\n",
      "Epoch 2/10\n",
      "247/247 [==============================] - 2s 7ms/step - loss: 0.3180 - accuracy: 0.8659 - val_loss: 0.3358 - val_accuracy: 0.8566\n",
      "Epoch 3/10\n",
      "247/247 [==============================] - 2s 7ms/step - loss: 0.2859 - accuracy: 0.8801 - val_loss: 0.3420 - val_accuracy: 0.8548\n",
      "Epoch 4/10\n",
      "247/247 [==============================] - 2s 7ms/step - loss: 0.2578 - accuracy: 0.8930 - val_loss: 0.3460 - val_accuracy: 0.8564\n",
      "Epoch 5/10\n",
      "247/247 [==============================] - 2s 7ms/step - loss: 0.2311 - accuracy: 0.9047 - val_loss: 0.3569 - val_accuracy: 0.8582\n",
      "Epoch 6/10\n",
      "247/247 [==============================] - 2s 7ms/step - loss: 0.2076 - accuracy: 0.9153 - val_loss: 0.3788 - val_accuracy: 0.8545\n",
      "Epoch 7/10\n",
      "247/247 [==============================] - 2s 7ms/step - loss: 0.1866 - accuracy: 0.9258 - val_loss: 0.4001 - val_accuracy: 0.8553\n",
      "Epoch 8/10\n",
      "247/247 [==============================] - 2s 7ms/step - loss: 0.1667 - accuracy: 0.9354 - val_loss: 0.4281 - val_accuracy: 0.8497\n",
      "Epoch 9/10\n",
      "247/247 [==============================] - 2s 7ms/step - loss: 0.1509 - accuracy: 0.9430 - val_loss: 0.4666 - val_accuracy: 0.8496\n",
      "Epoch 10/10\n",
      "247/247 [==============================] - 2s 7ms/step - loss: 0.1379 - accuracy: 0.9490 - val_loss: 0.4967 - val_accuracy: 0.8478\n"
     ]
    }
   ],
   "source": [
    "RNN_model.compile(optimizer='adam',\n",
    "              loss='binary_crossentropy',\n",
    "              metrics=['accuracy'])\n",
    "              \n",
    "epochs=10  # 몇 epoch를 훈련하면 좋을지 결과를 보면서 바꾸어 봅시다. \n",
    "\n",
    "RNN_history = RNN_model.fit(partial_x_train,\n",
    "                    partial_y_train,\n",
    "                    epochs=epochs,\n",
    "                    batch_size=512,\n",
    "                    validation_data=(x_val, y_val),\n",
    "                    verbose=1)"
   ]
  },
  {
   "cell_type": "code",
   "execution_count": 17,
   "id": "b7b0cfea",
   "metadata": {},
   "outputs": [
    {
     "name": "stdout",
     "output_type": "stream",
     "text": [
      "1537/1537 - 3s - loss: 0.4951 - accuracy: 0.8438\n",
      "[0.4950874149799347, 0.8438472747802734]\n"
     ]
    }
   ],
   "source": [
    "# 모델 간단평가\n",
    "results = RNN_model.evaluate(X_test,  y_test, verbose=2)\n",
    "\n",
    "print(results)"
   ]
  },
  {
   "cell_type": "code",
   "execution_count": 18,
   "id": "28a0ae9c",
   "metadata": {},
   "outputs": [
    {
     "name": "stdout",
     "output_type": "stream",
     "text": [
      "Epoch 1/10\n",
      "247/247 [==============================] - 6s 18ms/step - loss: 0.4022 - accuracy: 0.8118 - val_loss: 0.3266 - val_accuracy: 0.8579\n",
      "Epoch 2/10\n",
      "247/247 [==============================] - 4s 14ms/step - loss: 0.2736 - accuracy: 0.8877 - val_loss: 0.3149 - val_accuracy: 0.8645\n",
      "Epoch 3/10\n",
      "247/247 [==============================] - 4s 14ms/step - loss: 0.1879 - accuracy: 0.9286 - val_loss: 0.3568 - val_accuracy: 0.8587\n",
      "Epoch 4/10\n",
      "247/247 [==============================] - 4s 14ms/step - loss: 0.1032 - accuracy: 0.9650 - val_loss: 0.4440 - val_accuracy: 0.8492\n",
      "Epoch 5/10\n",
      "247/247 [==============================] - 4s 14ms/step - loss: 0.0586 - accuracy: 0.9810 - val_loss: 0.5411 - val_accuracy: 0.8502\n",
      "Epoch 6/10\n",
      "247/247 [==============================] - 4s 15ms/step - loss: 0.0368 - accuracy: 0.9880 - val_loss: 0.6564 - val_accuracy: 0.8447\n",
      "Epoch 7/10\n",
      "247/247 [==============================] - 4s 15ms/step - loss: 0.0274 - accuracy: 0.9911 - val_loss: 0.7354 - val_accuracy: 0.8487\n",
      "Epoch 8/10\n",
      "247/247 [==============================] - 4s 15ms/step - loss: 0.0249 - accuracy: 0.9914 - val_loss: 0.7887 - val_accuracy: 0.8413\n",
      "Epoch 9/10\n",
      "247/247 [==============================] - 4s 15ms/step - loss: 0.0343 - accuracy: 0.9876 - val_loss: 0.7619 - val_accuracy: 0.8413\n",
      "Epoch 10/10\n",
      "247/247 [==============================] - 4s 15ms/step - loss: 0.0281 - accuracy: 0.9898 - val_loss: 0.8446 - val_accuracy: 0.8454\n"
     ]
    }
   ],
   "source": [
    "cnn_model.compile(optimizer='adam',\n",
    "              loss='binary_crossentropy',\n",
    "              metrics=['accuracy'])\n",
    "              \n",
    "epochs=10  # 몇 epoch를 훈련하면 좋을지 결과를 보면서 바꾸어 봅시다. \n",
    "\n",
    "cnn_history = cnn_model.fit(partial_x_train,\n",
    "                    partial_y_train,\n",
    "                    epochs=epochs,\n",
    "                    batch_size=512,\n",
    "                    validation_data=(x_val, y_val),\n",
    "                    verbose=1)"
   ]
  },
  {
   "cell_type": "code",
   "execution_count": 19,
   "id": "38357d3b",
   "metadata": {},
   "outputs": [
    {
     "name": "stdout",
     "output_type": "stream",
     "text": [
      "1537/1537 - 3s - loss: 0.8556 - accuracy: 0.8430\n",
      "[0.8555653691291809, 0.8430132269859314]\n"
     ]
    }
   ],
   "source": [
    "# 모델 간단평가\n",
    "results = cnn_model.evaluate(X_test,  y_test, verbose=2)\n",
    "\n",
    "print(results)"
   ]
  },
  {
   "cell_type": "code",
   "execution_count": 20,
   "id": "3c032db3",
   "metadata": {},
   "outputs": [
    {
     "name": "stdout",
     "output_type": "stream",
     "text": [
      "Epoch 1/10\n",
      "247/247 [==============================] - 2s 6ms/step - loss: 0.4521 - accuracy: 0.8142 - val_loss: 0.3420 - val_accuracy: 0.8510\n",
      "Epoch 2/10\n",
      "247/247 [==============================] - 1s 5ms/step - loss: 0.3074 - accuracy: 0.8709 - val_loss: 0.3329 - val_accuracy: 0.8537\n",
      "Epoch 3/10\n",
      "247/247 [==============================] - 1s 5ms/step - loss: 0.2599 - accuracy: 0.8948 - val_loss: 0.3384 - val_accuracy: 0.8562\n",
      "Epoch 4/10\n",
      "247/247 [==============================] - 1s 5ms/step - loss: 0.2163 - accuracy: 0.9159 - val_loss: 0.3554 - val_accuracy: 0.8546\n",
      "Epoch 5/10\n",
      "247/247 [==============================] - 1s 5ms/step - loss: 0.1712 - accuracy: 0.9387 - val_loss: 0.3794 - val_accuracy: 0.8530\n",
      "Epoch 6/10\n",
      "247/247 [==============================] - 1s 5ms/step - loss: 0.1250 - accuracy: 0.9590 - val_loss: 0.4201 - val_accuracy: 0.8482\n",
      "Epoch 7/10\n",
      "247/247 [==============================] - 1s 5ms/step - loss: 0.0844 - accuracy: 0.9761 - val_loss: 0.4652 - val_accuracy: 0.8472\n",
      "Epoch 8/10\n",
      "247/247 [==============================] - 1s 5ms/step - loss: 0.0550 - accuracy: 0.9860 - val_loss: 0.5190 - val_accuracy: 0.8446\n",
      "Epoch 9/10\n",
      "247/247 [==============================] - 1s 5ms/step - loss: 0.0358 - accuracy: 0.9915 - val_loss: 0.5644 - val_accuracy: 0.8431\n",
      "Epoch 10/10\n",
      "247/247 [==============================] - 1s 5ms/step - loss: 0.0242 - accuracy: 0.9940 - val_loss: 0.6061 - val_accuracy: 0.8412\n"
     ]
    }
   ],
   "source": [
    "GMP_model.compile(optimizer='adam',\n",
    "              loss='binary_crossentropy',\n",
    "              metrics=['accuracy'])\n",
    "              \n",
    "epochs=10  # 몇 epoch를 훈련하면 좋을지 결과를 보면서 바꾸어 봅시다. \n",
    "\n",
    "GMP_history = GMP_model.fit(partial_x_train,\n",
    "                    partial_y_train,\n",
    "                    epochs=epochs,\n",
    "                    batch_size=512,\n",
    "                    validation_data=(x_val, y_val),\n",
    "                    verbose=1)"
   ]
  },
  {
   "cell_type": "code",
   "execution_count": 21,
   "id": "75ddf2bc",
   "metadata": {},
   "outputs": [
    {
     "name": "stdout",
     "output_type": "stream",
     "text": [
      "1537/1537 - 2s - loss: 0.6066 - accuracy: 0.8398\n",
      "[0.6065943837165833, 0.8397989869117737]\n"
     ]
    }
   ],
   "source": [
    "# 모델 간단평가\n",
    "results = GMP_model.evaluate(X_test,  y_test, verbose=2)\n",
    "\n",
    "print(results)"
   ]
  },
  {
   "cell_type": "markdown",
   "id": "3c7481c3",
   "metadata": {},
   "source": [
    "### 6) Loss, Accuracy 그래프 시각화"
   ]
  },
  {
   "cell_type": "code",
   "execution_count": 22,
   "id": "3fb3a86f",
   "metadata": {
    "scrolled": true
   },
   "outputs": [
    {
     "data": {
      "image/png": "[encoded data removed]",
      "text/plain": [
       "<Figure size 432x288 with 1 Axes>"
      ]
     },
     "metadata": {
      "needs_background": "light"
     },
     "output_type": "display_data"
    },
    {
     "data": {
      "image/png": "[encoded data removed]",
      "text/plain": [
       "<Figure size 432x288 with 1 Axes>"
      ]
     },
     "metadata": {
      "needs_background": "light"
     },
     "output_type": "display_data"
    }
   ],
   "source": [
    "import matplotlib.pyplot as plt\n",
    "history_dict = RNN_history.history\n",
    "\n",
    "acc = history_dict['accuracy']\n",
    "val_acc = history_dict['val_accuracy']\n",
    "loss = history_dict['loss']\n",
    "val_loss = history_dict['val_loss']\n",
    "\n",
    "epochs = range(1, len(acc) + 1)\n",
    "\n",
    "# \"bo\"는 \"파란색 점\"입니다\n",
    "plt.plot(epochs, loss, 'bo', label='Training loss')\n",
    "# b는 \"파란 실선\"입니다\n",
    "plt.plot(epochs, val_loss, 'b', label='Validation loss')\n",
    "plt.title('Training and validation loss')\n",
    "plt.xlabel('Epochs')\n",
    "plt.ylabel('Loss')\n",
    "plt.legend()\n",
    "plt.show()\n",
    "\n",
    "plt.clf()  # 그림 초기화\n",
    "\n",
    "plt.plot(epochs, acc, 'bo', label='Training acc')\n",
    "plt.plot(epochs, val_acc, 'b', label='Validation acc')\n",
    "plt.title('Training and validation accuracy')\n",
    "plt.xlabel('Epochs')\n",
    "plt.ylabel('Accuracy')\n",
    "plt.legend()\n",
    "\n",
    "plt.show()"
   ]
  },
  {
   "cell_type": "code",
   "execution_count": null,
   "id": "f2ef89d5",
   "metadata": {},
   "outputs": [],
   "source": []
  },
  {
   "cell_type": "code",
   "execution_count": 23,
   "id": "89f97191",
   "metadata": {
    "scrolled": true
   },
   "outputs": [
    {
     "data": {
      "image/png": "[encoded data removed]",
      "text/plain": [
       "<Figure size 432x288 with 1 Axes>"
      ]
     },
     "metadata": {
      "needs_background": "light"
     },
     "output_type": "display_data"
    },
    {
     "data": {
      "image/png": "[encoded data removed]",
      "text/plain": [
       "<Figure size 432x288 with 1 Axes>"
      ]
     },
     "metadata": {
      "needs_background": "light"
     },
     "output_type": "display_data"
    }
   ],
   "source": [
    "history_dict = cnn_history.history\n",
    "\n",
    "acc = history_dict['accuracy']\n",
    "val_acc = history_dict['val_accuracy']\n",
    "loss = history_dict['loss']\n",
    "val_loss = history_dict['val_loss']\n",
    "\n",
    "epochs = range(1, len(acc) + 1)\n",
    "\n",
    "# \"bo\"는 \"파란색 점\"입니다\n",
    "plt.plot(epochs, loss, 'bo', label='Training loss')\n",
    "# b는 \"파란 실선\"입니다\n",
    "plt.plot(epochs, val_loss, 'b', label='Validation loss')\n",
    "plt.title('Training and validation loss')\n",
    "plt.xlabel('Epochs')\n",
    "plt.ylabel('Loss')\n",
    "plt.legend()\n",
    "plt.show()\n",
    "\n",
    "plt.clf()  # 그림 초기화\n",
    "\n",
    "plt.plot(epochs, acc, 'bo', label='Training acc')\n",
    "plt.plot(epochs, val_acc, 'b', label='Validation acc')\n",
    "plt.title('Training and validation accuracy')\n",
    "plt.xlabel('Epochs')\n",
    "plt.ylabel('Accuracy')\n",
    "plt.legend()\n",
    "\n",
    "plt.show()"
   ]
  },
  {
   "cell_type": "code",
   "execution_count": 24,
   "id": "8623f9f9",
   "metadata": {},
   "outputs": [
    {
     "data": {
      "image/png": "[encoded data removed]",
      "text/plain": [
       "<Figure size 432x288 with 1 Axes>"
      ]
     },
     "metadata": {
      "needs_background": "light"
     },
     "output_type": "display_data"
    },
    {
     "data": {
      "image/png": "[encoded data removed]",
      "text/plain": [
       "<Figure size 432x288 with 1 Axes>"
      ]
     },
     "metadata": {
      "needs_background": "light"
     },
     "output_type": "display_data"
    }
   ],
   "source": [
    "history_dict = GMP_history.history\n",
    "\n",
    "acc = history_dict['accuracy']\n",
    "val_acc = history_dict['val_accuracy']\n",
    "loss = history_dict['loss']\n",
    "val_loss = history_dict['val_loss']\n",
    "\n",
    "epochs = range(1, len(acc) + 1)\n",
    "\n",
    "# \"bo\"는 \"파란색 점\"입니다\n",
    "plt.plot(epochs, loss, 'bo', label='Training loss')\n",
    "# b는 \"파란 실선\"입니다\n",
    "plt.plot(epochs, val_loss, 'b', label='Validation loss')\n",
    "plt.title('Training and validation loss')\n",
    "plt.xlabel('Epochs')\n",
    "plt.ylabel('Loss')\n",
    "plt.legend()\n",
    "plt.show()\n",
    "\n",
    "plt.clf()  # 그림 초기화\n",
    "\n",
    "plt.plot(epochs, acc, 'bo', label='Training acc')\n",
    "plt.plot(epochs, val_acc, 'b', label='Validation acc')\n",
    "plt.title('Training and validation accuracy')\n",
    "plt.xlabel('Epochs')\n",
    "plt.ylabel('Accuracy')\n",
    "plt.legend()\n",
    "\n",
    "plt.show()"
   ]
  },
  {
   "cell_type": "markdown",
   "id": "5ce4f40d",
   "metadata": {},
   "source": [
    "### 7) 학습된 Embedding 레이어 분석"
   ]
  },
  {
   "cell_type": "code",
   "execution_count": 25,
   "id": "6a7bbcd8",
   "metadata": {
    "scrolled": true
   },
   "outputs": [
    {
     "name": "stdout",
     "output_type": "stream",
     "text": [
      "(10000, 300)\n"
     ]
    }
   ],
   "source": [
    "embedding_layer = RNN_model.layers[0]\n",
    "weights = embedding_layer.get_weights()[0]\n",
    "print(weights.shape)    # shape: (vocab_size, embedding_dim)"
   ]
  },
  {
   "cell_type": "code",
   "execution_count": 26,
   "id": "e4fd3aa7",
   "metadata": {},
   "outputs": [],
   "source": [
    "# 학습한 embedding 파라미터를 파일로 저장\n",
    "word2vec_file_path = os.getenv('HOME') + '/aiffel/sentiment_classification/data/word2vec_project.txt'\n",
    "f = open(word2vec_file_path, 'w')\n",
    "f.write('{} {}\\n'.format(vocab_size-4, word_vector_dim))  # 몇 개의 벡터를 어떤 사이즈로 기재할지의 타이틀.\n",
    "\n",
    "# 단어 개수(특수문자 4개 제외)만큼의 워드 벡터를 파일에 기록\n",
    "vectors = RNN_model.get_weights()[0]\n",
    "for i in range(4, vocab_size):\n",
    "    f.write('{} {}\\n'.format(index_to_word[i], ' '.join(map(str, list(vectors[i, :])))))\n",
    "f.close()"
   ]
  },
  {
   "cell_type": "code",
   "execution_count": 27,
   "id": "1ba7d88a",
   "metadata": {},
   "outputs": [
    {
     "data": {
      "text/plain": [
       "array([-7.47767016e-02, -1.26235280e-02, -2.12028958e-02,  7.48538645e-03,\n",
       "       -3.11232340e-02, -5.43108284e-02,  8.22034627e-02,  3.27311940e-02,\n",
       "        8.56801197e-02, -1.54869277e-02, -3.45802195e-02,  8.84980953e-04,\n",
       "        5.78057803e-02, -2.13486087e-02,  5.82787432e-02,  6.82951882e-02,\n",
       "        6.52162507e-02, -4.35716324e-02,  5.83100040e-03,  2.46755704e-02,\n",
       "       -1.11608826e-01,  1.01333648e-01, -7.60751888e-02,  7.84834251e-02,\n",
       "        7.44672120e-02,  9.45320949e-02, -6.49327934e-02, -1.54065797e-02,\n",
       "       -3.84466499e-02,  1.67249545e-01,  7.27833947e-03, -7.17298165e-02,\n",
       "       -5.34985438e-02, -4.30368297e-02, -8.28141719e-02, -1.10244468e-01,\n",
       "       -9.61298943e-02,  1.26557034e-02,  4.54122992e-03, -2.26784125e-02,\n",
       "        3.34116146e-02,  7.74361342e-02, -2.14801311e-01, -4.21658345e-02,\n",
       "        1.54013904e-02, -1.06829423e-02, -1.29015476e-01,  4.73857746e-02,\n",
       "       -9.90442038e-02, -1.60101894e-02, -1.33114606e-01, -4.89721224e-02,\n",
       "        1.94032360e-02, -4.55053225e-02,  4.52560298e-02, -4.81137037e-02,\n",
       "        3.78170162e-02,  1.83953363e-02,  1.52729359e-02,  5.17533347e-02,\n",
       "       -5.59295565e-02,  1.50516219e-02,  1.60464272e-01,  6.39034109e-03,\n",
       "       -1.88026819e-02, -1.19141024e-03,  5.57516813e-02,  1.74216758e-02,\n",
       "       -6.88695461e-02, -1.01782067e-03,  2.37791575e-02,  4.67262603e-02,\n",
       "        2.82833837e-02,  8.28437321e-03,  1.25807852e-01,  1.41312517e-02,\n",
       "       -2.85930187e-02,  1.08413585e-01, -1.63033027e-02, -1.17378771e-01,\n",
       "       -8.68695730e-04, -1.26346171e-01, -2.92641670e-01, -4.40497883e-02,\n",
       "       -8.17561802e-03,  2.26792134e-02, -6.33023977e-02, -7.16968924e-02,\n",
       "       -1.00519672e-01, -1.82936043e-01, -1.19585358e-01,  1.08964480e-02,\n",
       "        1.10555463e-01, -8.45823884e-02, -7.99933299e-02,  3.52803729e-02,\n",
       "        9.05050710e-02, -1.67365726e-02, -5.85343949e-02, -7.82040656e-02,\n",
       "        4.50267270e-02, -4.05529961e-02,  9.87934470e-02,  1.96513999e-02,\n",
       "        4.72040512e-02, -7.52703398e-02,  5.24190404e-02, -9.98885408e-02,\n",
       "        1.08868489e-02,  2.64299940e-02,  4.51131091e-02,  1.33389950e-01,\n",
       "        1.39286980e-01, -4.49544974e-02, -4.33932655e-02,  7.92640597e-02,\n",
       "        2.18380545e-03, -2.32649017e-02,  3.53609659e-02,  1.98013484e-02,\n",
       "       -1.43766785e-02, -3.87974679e-02, -1.17682047e-01,  8.92946422e-02,\n",
       "        8.85608792e-02,  2.13437498e-01, -2.13456303e-02, -3.05319508e-03,\n",
       "       -2.21773963e-02, -1.96976904e-02,  1.94478817e-02,  9.51267406e-02,\n",
       "        1.21178642e-01,  8.05794001e-02, -3.94662702e-03, -8.83918926e-02,\n",
       "        1.21801244e-02, -6.20703809e-02, -4.15405966e-02,  3.59654948e-02,\n",
       "       -1.19147070e-01,  4.40095104e-02, -9.19770598e-02,  2.92255543e-02,\n",
       "       -2.48258896e-02,  7.19351228e-03, -2.29625907e-02,  2.38043070e-02,\n",
       "        8.37927870e-03, -5.30251525e-02, -2.35269308e-01, -5.93460388e-02,\n",
       "       -1.94024779e-02,  2.53231283e-02,  1.85357872e-02, -3.95787060e-02,\n",
       "        3.70826125e-02, -7.49031678e-02,  7.12682456e-02,  7.01616332e-02,\n",
       "       -7.05871135e-02, -7.92040664e-05, -2.37787701e-02, -5.71699664e-02,\n",
       "       -5.14653651e-03, -9.89793614e-03,  2.02374607e-02, -3.26055065e-02,\n",
       "       -3.94565947e-02, -2.96600573e-02,  6.40607178e-02, -1.30174160e-01,\n",
       "        1.58213768e-02, -4.65085842e-02,  2.43791565e-02,  3.62958312e-02,\n",
       "       -1.34591684e-01, -4.38959114e-02, -2.75950953e-02, -1.41621642e-02,\n",
       "        1.31802773e-02, -1.66490927e-01,  3.13083865e-02,  3.10402997e-02,\n",
       "        5.52831665e-02,  1.21081099e-02,  4.10003699e-02,  2.47737076e-02,\n",
       "        1.18188620e-01, -4.55778874e-02, -5.62410578e-02, -1.23755736e-02,\n",
       "        7.95650557e-02,  1.78580545e-02,  1.06061943e-01, -1.86604828e-01,\n",
       "        5.37190326e-02,  8.22744220e-02,  6.92338273e-02,  1.15466289e-01,\n",
       "       -2.14378074e-01,  1.04672676e-02,  2.76703108e-02,  3.16457599e-02,\n",
       "        1.68014407e-01, -1.18632153e-01, -7.74492547e-02,  5.96409431e-03,\n",
       "        1.59388289e-01, -1.89310554e-02,  2.15490144e-02, -3.84011008e-02,\n",
       "        7.76512399e-02, -2.62424443e-02, -9.06804800e-02, -5.37746064e-02,\n",
       "       -1.28096705e-02, -4.21362035e-02,  4.48463764e-03, -2.59811971e-02,\n",
       "        3.07193585e-02,  1.29519089e-03,  3.45538370e-02,  1.26087442e-02,\n",
       "        5.52288294e-02,  2.09866967e-02, -3.92113291e-02,  1.69527888e-01,\n",
       "        2.71408875e-02,  2.75191665e-02, -5.05373180e-02, -5.31713292e-03,\n",
       "        9.54292994e-03,  8.06095079e-03,  2.30350628e-01,  7.33728558e-02,\n",
       "       -5.21595515e-02, -1.35987177e-01,  3.59880589e-02,  5.99666499e-02,\n",
       "       -9.82152373e-02, -8.01903475e-03,  1.30137671e-02, -3.87249030e-02,\n",
       "       -5.50090708e-02,  2.71767210e-02,  3.79949668e-03,  1.30402036e-02,\n",
       "        5.75991049e-02,  3.44433356e-04,  1.87661245e-01, -1.21381441e-02,\n",
       "        1.32803041e-02, -1.12243891e-02, -4.19644825e-02, -4.06323187e-02,\n",
       "       -4.20988388e-02,  2.34796423e-02,  1.05770282e-01,  3.27286199e-02,\n",
       "       -1.90543771e-01,  1.99298486e-02,  9.07086208e-02,  8.76296461e-02,\n",
       "        1.14095351e-03, -4.44654077e-02,  8.64039436e-02,  8.86562094e-03,\n",
       "        1.37203727e-02, -2.32635271e-02,  3.58123779e-02,  2.61522103e-02,\n",
       "       -8.90015215e-02,  1.18480669e-03,  2.30985861e-02,  1.52072072e-01,\n",
       "        2.50821095e-02,  7.75272250e-02, -1.13384329e-01,  5.59272580e-02,\n",
       "        4.75424789e-02,  2.29228094e-01,  8.68381839e-03, -1.33965001e-01,\n",
       "        2.59075849e-03,  1.90243330e-02, -2.82477168e-03, -1.29077643e-01,\n",
       "       -6.42445087e-02, -5.29585732e-03, -7.78109534e-03,  7.08957016e-02,\n",
       "        1.55158520e-01, -5.03674373e-02,  4.45368849e-02,  6.77832365e-02,\n",
       "       -3.02014071e-02,  8.62318352e-02,  5.15593365e-02,  1.00982659e-01],\n",
       "      dtype=float32)"
      ]
     },
     "execution_count": 27,
     "metadata": {},
     "output_type": "execute_result"
    }
   ],
   "source": [
    "# gensim에서 제공하는 패키지로, 위에서 만든 임베딩 파라미터를 익어서 word vector로 활용\n",
    "from gensim.models.keyedvectors import Word2VecKeyedVectors\n",
    "\n",
    "word_vectors = Word2VecKeyedVectors.load_word2vec_format(word2vec_file_path, binary=False)\n",
    "vector = word_vectors['컴퓨터']\n",
    "vector"
   ]
  },
  {
   "cell_type": "code",
   "execution_count": 28,
   "id": "e61e113e",
   "metadata": {},
   "outputs": [
    {
     "data": {
      "text/plain": [
       "[('헬', 0.7838122844696045),\n",
       " ('뻥튀기', 0.7602183818817139),\n",
       " ('끝냈', 0.7472996115684509),\n",
       " ('변해', 0.7422032952308655),\n",
       " ('ocn', 0.7392600774765015),\n",
       " ('범죄자', 0.7351723909378052),\n",
       " ('하나같이', 0.7339091300964355),\n",
       " ('케릭', 0.7309196591377258),\n",
       " ('메르스', 0.726854145526886),\n",
       " ('경치', 0.7239492535591125)]"
      ]
     },
     "execution_count": 28,
     "metadata": {},
     "output_type": "execute_result"
    }
   ],
   "source": [
    "word_vectors.similar_by_word(\"컴퓨터\") #유사단어 찾기"
   ]
  },
  {
   "cell_type": "markdown",
   "id": "3f91f8b5",
   "metadata": {},
   "source": [
    "### 8) 한국어 Word2Vec 임베딩 활용하여 성능 개선"
   ]
  },
  {
   "cell_type": "code",
   "execution_count": 29,
   "id": "7725577b",
   "metadata": {},
   "outputs": [
    {
     "data": {
      "text/plain": [
       "array([ 1.07421875e-01, -2.01171875e-01,  1.23046875e-01,  2.11914062e-01,\n",
       "       -9.13085938e-02,  2.16796875e-01, -1.31835938e-01,  8.30078125e-02,\n",
       "        2.02148438e-01,  4.78515625e-02,  3.66210938e-02, -2.45361328e-02,\n",
       "        2.39257812e-02, -1.60156250e-01, -2.61230469e-02,  9.71679688e-02,\n",
       "       -6.34765625e-02,  1.84570312e-01,  1.70898438e-01, -1.63085938e-01,\n",
       "       -1.09375000e-01,  1.49414062e-01, -4.65393066e-04,  9.61914062e-02,\n",
       "        1.68945312e-01,  2.60925293e-03,  8.93554688e-02,  6.49414062e-02,\n",
       "        3.56445312e-02, -6.93359375e-02, -1.46484375e-01, -1.21093750e-01,\n",
       "       -2.27539062e-01,  2.45361328e-02, -1.24511719e-01, -3.18359375e-01,\n",
       "       -2.20703125e-01,  1.30859375e-01,  3.66210938e-02, -3.63769531e-02,\n",
       "       -1.13281250e-01,  1.95312500e-01,  9.76562500e-02,  1.26953125e-01,\n",
       "        6.59179688e-02,  6.93359375e-02,  1.02539062e-02,  1.75781250e-01,\n",
       "       -1.68945312e-01,  1.21307373e-03, -2.98828125e-01, -1.15234375e-01,\n",
       "        5.66406250e-02, -1.77734375e-01, -2.08984375e-01,  1.76757812e-01,\n",
       "        2.38037109e-02, -2.57812500e-01, -4.46777344e-02,  1.88476562e-01,\n",
       "        5.51757812e-02,  5.02929688e-02, -1.06933594e-01,  1.89453125e-01,\n",
       "       -1.16210938e-01,  8.49609375e-02, -1.71875000e-01,  2.45117188e-01,\n",
       "       -1.73828125e-01, -8.30078125e-03,  4.56542969e-02, -1.61132812e-02,\n",
       "        1.86523438e-01, -6.05468750e-02, -4.17480469e-02,  1.82617188e-01,\n",
       "        2.20703125e-01, -1.22558594e-01, -2.55126953e-02, -3.08593750e-01,\n",
       "        9.13085938e-02,  1.60156250e-01,  1.70898438e-01,  1.19628906e-01,\n",
       "        7.08007812e-02, -2.64892578e-02, -3.08837891e-02,  4.06250000e-01,\n",
       "       -1.01562500e-01,  5.71289062e-02, -7.26318359e-03, -9.17968750e-02,\n",
       "       -1.50390625e-01, -2.55859375e-01,  2.16796875e-01, -3.63769531e-02,\n",
       "        2.24609375e-01,  8.00781250e-02,  1.56250000e-01,  5.27343750e-02,\n",
       "        1.50390625e-01, -1.14746094e-01, -8.64257812e-02,  1.19140625e-01,\n",
       "       -7.17773438e-02,  2.73437500e-01, -1.64062500e-01,  7.29370117e-03,\n",
       "        4.21875000e-01, -1.12792969e-01, -1.35742188e-01, -1.31835938e-01,\n",
       "       -1.37695312e-01, -7.66601562e-02,  6.25000000e-02,  4.98046875e-02,\n",
       "       -1.91406250e-01, -6.03027344e-02,  2.27539062e-01,  5.88378906e-02,\n",
       "       -3.24218750e-01,  5.41992188e-02, -1.35742188e-01,  8.17871094e-03,\n",
       "       -5.24902344e-02, -1.74713135e-03, -9.81445312e-02, -2.86865234e-02,\n",
       "        3.61328125e-02,  2.15820312e-01,  5.98144531e-02, -3.08593750e-01,\n",
       "       -2.27539062e-01,  2.61718750e-01,  9.86328125e-02, -5.07812500e-02,\n",
       "        1.78222656e-02,  1.31835938e-01, -5.35156250e-01, -1.81640625e-01,\n",
       "        1.38671875e-01, -3.10546875e-01, -9.71679688e-02,  1.31835938e-01,\n",
       "       -1.16210938e-01,  7.03125000e-02,  2.85156250e-01,  3.51562500e-02,\n",
       "       -1.01562500e-01, -3.75976562e-02,  1.41601562e-01,  1.42578125e-01,\n",
       "       -5.68847656e-02,  2.65625000e-01, -2.09960938e-01,  9.64355469e-03,\n",
       "       -6.68945312e-02, -4.83398438e-02, -6.10351562e-02,  2.45117188e-01,\n",
       "       -9.66796875e-02,  1.78222656e-02, -1.27929688e-01, -4.78515625e-02,\n",
       "       -7.26318359e-03,  1.79687500e-01,  2.78320312e-02, -2.10937500e-01,\n",
       "       -1.43554688e-01, -1.27929688e-01,  1.73339844e-02, -3.60107422e-03,\n",
       "       -2.04101562e-01,  3.63159180e-03, -1.19628906e-01, -6.15234375e-02,\n",
       "        5.93261719e-02, -3.23486328e-03, -1.70898438e-01, -3.14941406e-02,\n",
       "       -8.88671875e-02, -2.89062500e-01,  3.44238281e-02, -1.87500000e-01,\n",
       "        2.94921875e-01,  1.58203125e-01, -1.19628906e-01,  7.61718750e-02,\n",
       "        6.39648438e-02, -4.68750000e-02, -6.83593750e-02,  1.21459961e-02,\n",
       "       -1.44531250e-01,  4.54101562e-02,  3.68652344e-02,  3.88671875e-01,\n",
       "        1.45507812e-01, -2.55859375e-01, -4.46777344e-02, -1.33789062e-01,\n",
       "       -1.38671875e-01,  6.59179688e-02,  1.37695312e-01,  1.14746094e-01,\n",
       "        2.03125000e-01, -4.78515625e-02,  1.80664062e-02, -8.54492188e-02,\n",
       "       -2.48046875e-01, -3.39843750e-01, -2.83203125e-02,  1.05468750e-01,\n",
       "       -2.14843750e-01, -8.74023438e-02,  7.12890625e-02,  1.87500000e-01,\n",
       "       -1.12304688e-01,  2.73437500e-01, -3.26171875e-01, -1.77734375e-01,\n",
       "       -4.24804688e-02, -2.69531250e-01,  6.64062500e-02, -6.88476562e-02,\n",
       "       -1.99218750e-01, -7.03125000e-02, -2.43164062e-01, -3.66210938e-02,\n",
       "       -7.37304688e-02, -1.77734375e-01,  9.17968750e-02, -1.25000000e-01,\n",
       "       -1.65039062e-01, -3.57421875e-01, -2.85156250e-01, -1.66992188e-01,\n",
       "        1.97265625e-01, -1.53320312e-01,  2.31933594e-02,  2.06054688e-01,\n",
       "        1.80664062e-01, -2.74658203e-02, -1.92382812e-01, -9.61914062e-02,\n",
       "       -1.06811523e-02, -4.73632812e-02,  6.54296875e-02, -1.25732422e-02,\n",
       "        1.78222656e-02, -8.00781250e-02, -2.59765625e-01,  9.37500000e-02,\n",
       "       -7.81250000e-02,  4.68750000e-02, -2.22167969e-02,  1.86767578e-02,\n",
       "        3.11279297e-02,  1.04980469e-02, -1.69921875e-01,  2.58789062e-02,\n",
       "       -3.41796875e-02, -1.44042969e-02, -5.46875000e-02, -8.78906250e-02,\n",
       "        1.96838379e-03,  2.23632812e-01, -1.36718750e-01,  1.75781250e-01,\n",
       "       -1.63085938e-01,  1.87500000e-01,  3.44238281e-02, -5.63964844e-02,\n",
       "       -2.27689743e-05,  4.27246094e-02,  5.81054688e-02, -1.07910156e-01,\n",
       "       -3.88183594e-02, -2.69531250e-01,  3.34472656e-02,  9.81445312e-02,\n",
       "        5.63964844e-02,  2.23632812e-01, -5.49316406e-02,  1.46484375e-01,\n",
       "        5.93261719e-02, -2.19726562e-01,  6.39648438e-02,  1.66015625e-02,\n",
       "        4.56542969e-02,  3.26171875e-01, -3.80859375e-01,  1.70898438e-01,\n",
       "        5.66406250e-02, -1.04492188e-01,  1.38671875e-01, -1.57226562e-01,\n",
       "        3.23486328e-03, -4.80957031e-02, -2.48046875e-01, -6.20117188e-02],\n",
       "      dtype=float32)"
      ]
     },
     "execution_count": 29,
     "metadata": {},
     "output_type": "execute_result"
    }
   ],
   "source": [
    "# Google의 Word2Vec 모델을 가져와 적용\n",
    "from gensim.models import KeyedVectors\n",
    "\n",
    "word2vec_path = os.getenv('HOME')+'/aiffel/sentiment_classification/data/GoogleNews-vectors-negative300.bin.gz'\n",
    "word2vec = KeyedVectors.load_word2vec_format(word2vec_path, binary=True, limit=1000000)\n",
    "vector = word2vec['computer']\n",
    "vector     # 무려 300dim의 워드 벡터입니다.\n"
   ]
  },
  {
   "cell_type": "markdown",
   "id": "bf9872e3",
   "metadata": {},
   "source": [
    "300dim의 벡터로 이루어진 300만 개의 단어입니다. 이 단어 사전을 메모리에 모두 로딩하면 아주 높은 확률로 여러분의 실습환경에 메모리 에러가 날 것입니다.  \n",
    "그래서 KeyedVectors.load_word2vec_format 메서드로 워드 벡터를 로딩할 때 가장 많이 사용되는 상위 100만 개만 limt으로 조건을 주어 로딩했습니다.\n",
    "\n",
    "메모리가 충분하다면 limt=None으로 하시면 300만 개를 모두 로딩합니다."
   ]
  },
  {
   "cell_type": "code",
   "execution_count": 30,
   "id": "94d94fe1",
   "metadata": {
    "scrolled": false
   },
   "outputs": [
    {
     "data": {
      "text/plain": [
       "[('loved', 0.6907791495323181),\n",
       " ('adore', 0.6816873550415039),\n",
       " ('loves', 0.661863386631012),\n",
       " ('passion', 0.6100708842277527),\n",
       " ('hate', 0.600395679473877),\n",
       " ('loving', 0.5886635780334473),\n",
       " ('affection', 0.5664337873458862),\n",
       " ('undying_love', 0.5547304749488831),\n",
       " ('absolutely_adore', 0.5536840558052063),\n",
       " ('adores', 0.5440906882286072)]"
      ]
     },
     "execution_count": 30,
     "metadata": {},
     "output_type": "execute_result"
    }
   ],
   "source": [
    "word2vec.similar_by_word(\"love\") #의미적 유사도가 비슷한 것"
   ]
  },
  {
   "cell_type": "markdown",
   "id": "4c4b3869",
   "metadata": {},
   "source": [
    "Word2Vec에서 제공하는 워드 임베딩 벡터들끼리는 의미적 유사도가 가까운 것이 서로 가깝게 제대로 학습된 것을 확인할 수 있습니다. 이제 우리는 이전 스텝에서 학습했던 모델의 임베딩 레이어를 Word2Vec의 것으로 교체하여 다시 학습시켜 볼 것입니다."
   ]
  },
  {
   "cell_type": "code",
   "execution_count": 31,
   "id": "ba104ab0",
   "metadata": {},
   "outputs": [],
   "source": [
    "vocab_size = 10000    # 어휘 사전의 크기입니다(10,000개의 단어)\n",
    "word_vector_dim = 300  # 워드 벡터의 차원수\n",
    "embedding_matrix = np.random.rand(vocab_size, word_vector_dim)\n",
    "\n",
    "# embedding_matrix에 Word2Vec 워드 벡터를 단어 하나씩마다 차례차례 카피한다.\n",
    "for i in range(4,vocab_size):\n",
    "    if index_to_word[i] in word2vec:\n",
    "        embedding_matrix[i] = word2vec[index_to_word[i]]"
   ]
  },
  {
   "cell_type": "code",
   "execution_count": 36,
   "id": "565ffa68",
   "metadata": {},
   "outputs": [
    {
     "name": "stdout",
     "output_type": "stream",
     "text": [
      "Model: \"sequential_4\"\n",
      "_________________________________________________________________\n",
      "Layer (type)                 Output Shape              Param #   \n",
      "=================================================================\n",
      "embedding_4 (Embedding)      (None, 41, 300)           3000000   \n",
      "_________________________________________________________________\n",
      "lstm_1 (LSTM)                (None, 256)               570368    \n",
      "_________________________________________________________________\n",
      "dense_8 (Dense)              (None, 8)                 2056      \n",
      "_________________________________________________________________\n",
      "dense_9 (Dense)              (None, 1)                 9         \n",
      "=================================================================\n",
      "Total params: 3,572,433\n",
      "Trainable params: 3,572,433\n",
      "Non-trainable params: 0\n",
      "_________________________________________________________________\n"
     ]
    }
   ],
   "source": [
    "from tensorflow.keras.initializers import Constant\n",
    "\n",
    "vocab_size = 10000    # 어휘 사전의 크기입니다(10,000개의 단어)\n",
    "word_vector_dim = 300  # 워드 벡터의 차원 수 \n",
    "\n",
    "# 모델 구성 RNN\n",
    "model = tf.keras.Sequential()\n",
    "model.add(tf.keras.layers.Embedding(vocab_size, \n",
    "                                 word_vector_dim, \n",
    "                                 embeddings_initializer=Constant(embedding_matrix),  # 카피한 임베딩을 여기서 활용\n",
    "                                 input_length=maxlen, \n",
    "                                 trainable=True))   # trainable을 True로 주면 Fine-tuning\n",
    "model.add(tf.keras.layers.LSTM(256))\n",
    "model.add(tf.keras.layers.Dense(8, activation='relu'))\n",
    "model.add(tf.keras.layers.Dense(1, activation='sigmoid')) \n",
    "\n",
    "model.summary()"
   ]
  },
  {
   "cell_type": "code",
   "execution_count": 37,
   "id": "fa6ba9b9",
   "metadata": {
    "scrolled": true
   },
   "outputs": [
    {
     "name": "stdout",
     "output_type": "stream",
     "text": [
      "Epoch 1/10\n",
      "247/247 [==============================] - 9s 32ms/step - loss: 0.5100 - accuracy: 0.7346 - val_loss: 0.4303 - val_accuracy: 0.8019\n",
      "Epoch 2/10\n",
      "247/247 [==============================] - 8s 31ms/step - loss: 0.3534 - accuracy: 0.8478 - val_loss: 0.3682 - val_accuracy: 0.8395\n",
      "Epoch 3/10\n",
      "247/247 [==============================] - 8s 31ms/step - loss: 0.3213 - accuracy: 0.8634 - val_loss: 0.3397 - val_accuracy: 0.8537\n",
      "Epoch 4/10\n",
      "247/247 [==============================] - 8s 32ms/step - loss: 0.3006 - accuracy: 0.8739 - val_loss: 0.3350 - val_accuracy: 0.8576\n",
      "Epoch 5/10\n",
      "247/247 [==============================] - 8s 32ms/step - loss: 0.2816 - accuracy: 0.8829 - val_loss: 0.3338 - val_accuracy: 0.8573\n",
      "Epoch 6/10\n",
      "247/247 [==============================] - 8s 32ms/step - loss: 0.2650 - accuracy: 0.8911 - val_loss: 0.3286 - val_accuracy: 0.8590\n",
      "Epoch 7/10\n",
      "247/247 [==============================] - 8s 32ms/step - loss: 0.2513 - accuracy: 0.8977 - val_loss: 0.3747 - val_accuracy: 0.8425\n",
      "Epoch 8/10\n",
      "247/247 [==============================] - 8s 32ms/step - loss: 0.2381 - accuracy: 0.9048 - val_loss: 0.3441 - val_accuracy: 0.8571\n",
      "Epoch 9/10\n",
      "247/247 [==============================] - 8s 32ms/step - loss: 0.2247 - accuracy: 0.9109 - val_loss: 0.3547 - val_accuracy: 0.8569\n",
      "Epoch 10/10\n",
      "247/247 [==============================] - 8s 32ms/step - loss: 0.2122 - accuracy: 0.9165 - val_loss: 0.3680 - val_accuracy: 0.8563\n"
     ]
    }
   ],
   "source": [
    "# 학습의 진행\n",
    "model.compile(optimizer='adam',\n",
    "              loss='binary_crossentropy',\n",
    "              metrics=['accuracy'])\n",
    "              \n",
    "epochs=10  # 몇 epoch를 훈련하면 좋을지 결과를 보면서 바꾸어 봅시다. \n",
    "\n",
    "history = model.fit(partial_x_train,\n",
    "                    partial_y_train,\n",
    "                    epochs=epochs,\n",
    "                    batch_size=512,\n",
    "                    validation_data=(x_val, y_val),\n",
    "                    verbose=1)"
   ]
  },
  {
   "cell_type": "code",
   "execution_count": 34,
   "id": "96beca98",
   "metadata": {},
   "outputs": [
    {
     "name": "stdout",
     "output_type": "stream",
     "text": [
      "1537/1537 - 3s - loss: 0.4450 - accuracy: 0.8340\n",
      "[0.4449600875377655, 0.8340216279029846]\n"
     ]
    }
   ],
   "source": [
    "# 테스트셋을 통한 모델 평가\n",
    "results = model.evaluate(X_test,  y_test, verbose=2)\n",
    "\n",
    "print(results)"
   ]
  },
  {
   "cell_type": "code",
   "execution_count": 35,
   "id": "788642df",
   "metadata": {
    "scrolled": true
   },
   "outputs": [
    {
     "data": {
      "image/png": "[encoded data removed]",
      "text/plain": [
       "<Figure size 432x288 with 1 Axes>"
      ]
     },
     "metadata": {
      "needs_background": "light"
     },
     "output_type": "display_data"
    },
    {
     "data": {
      "image/png": "[encoded data removed]",
      "text/plain": [
       "<Figure size 432x288 with 1 Axes>"
      ]
     },
     "metadata": {
      "needs_background": "light"
     },
     "output_type": "display_data"
    }
   ],
   "source": [
    "#모델의 결과값을 그래프로 표시\n",
    "history = history.history\n",
    "acc = history['accuracy']\n",
    "val_acc = history['val_accuracy']\n",
    "loss = history['loss']\n",
    "val_loss = history['val_loss']\n",
    "\n",
    "epochs = range(1, len(acc) + 1)\n",
    "\n",
    "plt.plot(epochs, loss, 'bo', label='Training loss')\n",
    "plt.plot(epochs, val_loss, 'b', label='Validation loss')\n",
    "plt.title('Training and validation loss')\n",
    "plt.xlabel('Epochs')\n",
    "plt.ylabel('Loss')\n",
    "plt.legend()\n",
    "plt.show()\n",
    "\n",
    "plt.clf()  # 그림 초기화\n",
    "\n",
    "plt.plot(epochs, acc, 'bo', label='Training acc')\n",
    "plt.plot(epochs, val_acc, 'b', label='Validation acc')\n",
    "plt.title('Training and validation accuracy')\n",
    "plt.xlabel('Epochs')\n",
    "plt.ylabel('Accuracy')\n",
    "plt.legend()\n",
    "\n",
    "plt.show()"
   ]
  },
  {
   "cell_type": "markdown",
   "id": "1162ce73",
   "metadata": {},
   "source": [
    "## 회고\n",
    "\n",
    "RNN,GMP,CNN 순으로 값이 좋게나왔다  \n",
    "그래서 좋은 RNN모델로 Word2Vec이라는 사전학습된(Pretrained) 워드 임베딩 모델을 가져다 활용해 확인해보니 loss: 0.4951 - accuracy: 0.8438 -> loss: 0.4450 - accuracy: 0.8340  \n",
    "성능이 조금 더 좋아진것을 확인할 수 있었다.   \n",
    "성능을 더 올리고 싶어 모델 구성안의 하이퍼파라미터를 바꾸다 오히려 더 떨어지는 것을 보아 아직 모델 구성들을 제대로 이해하지 못한 거 같기에 추후 복습이 꼭 필요할 거 같다."
   ]
  }
 ],
 "metadata": {
  "kernelspec": {
   "display_name": "Python 3 (ipykernel)",
   "language": "python",
   "name": "python3"
  },
  "language_info": {
   "codemirror_mode": {
    "name": "ipython",
    "version": 3
   },
   "file_extension": ".py",
   "mimetype": "text/x-python",
   "name": "python",
   "nbconvert_exporter": "python",
   "pygments_lexer": "ipython3",
   "version": "3.9.7"
  }
 },
 "nbformat": 4,
 "nbformat_minor": 5
}
