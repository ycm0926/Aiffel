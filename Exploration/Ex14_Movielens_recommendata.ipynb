{
 "cells": [
  {
   "cell_type": "markdown",
   "id": "d98ea6d8",
   "metadata": {},
   "source": [
    "# 프로젝트 - Movielens 영화 추천 실습\n",
    "\n",
    "이전 스텝에서 배운 MF 모델 학습 방법을 토대로, 내가 좋아할 만한 영화 추천 시스템을 제작해 보겠습니다.\n",
    "\n",
    "이번에 활용할 데이터셋은 추천 시스템의 MNIST라고 부를만한 Movielens 데이터입니다.\n",
    "\n",
    "* 유저가 영화에 대해 평점을 매긴 데이터가 데이터 크기 별로 있습니다. MovieLens 1M Dataset 사용을 권장합니다.\n",
    "* 별점 데이터는 대표적인 explicit 데이터입니다. 하지만 implicit 데이터로 간주하고 테스트해 볼 수 있습니다.\n",
    "* 별점을 시청횟수로 해석해서 생각하겠습니다.\n",
    "* 또한 유저가 3점 미만으로 준 데이터는 선호하지 않는다고 가정하고 제외하겠습니다.\n",
    "         \n",
    "Cloud Storage에 미리 업로드된 ml-1m폴더 내 파일을 심볼릭 링크로 개인 storage에 연결해 줍니다."
   ]
  },
  {
   "cell_type": "markdown",
   "id": "b3688a8b",
   "metadata": {},
   "source": [
    "## 1) 데이터 준비와 전처리\n",
    "\n",
    "Movielens 데이터는 rating.dat 안에 이미 인덱싱까지 완료된 사용자-영화-평점 데이터가 깔끔하게 정리되어 있습니다.\n"
   ]
  },
  {
   "cell_type": "code",
   "execution_count": 1,
   "id": "082700a7",
   "metadata": {
    "scrolled": true
   },
   "outputs": [
    {
     "data": {
      "text/html": [
       "<div>\n",
       "<style scoped>\n",
       "    .dataframe tbody tr th:only-of-type {\n",
       "        vertical-align: middle;\n",
       "    }\n",
       "\n",
       "    .dataframe tbody tr th {\n",
       "        vertical-align: top;\n",
       "    }\n",
       "\n",
       "    .dataframe thead th {\n",
       "        text-align: right;\n",
       "    }\n",
       "</style>\n",
       "<table border=\"1\" class=\"dataframe\">\n",
       "  <thead>\n",
       "    <tr style=\"text-align: right;\">\n",
       "      <th></th>\n",
       "      <th>user_id</th>\n",
       "      <th>movie_id</th>\n",
       "      <th>ratings</th>\n",
       "      <th>timestamp</th>\n",
       "    </tr>\n",
       "  </thead>\n",
       "  <tbody>\n",
       "    <tr>\n",
       "      <th>0</th>\n",
       "      <td>1</td>\n",
       "      <td>1193</td>\n",
       "      <td>5</td>\n",
       "      <td>978300760</td>\n",
       "    </tr>\n",
       "    <tr>\n",
       "      <th>1</th>\n",
       "      <td>1</td>\n",
       "      <td>661</td>\n",
       "      <td>3</td>\n",
       "      <td>978302109</td>\n",
       "    </tr>\n",
       "    <tr>\n",
       "      <th>2</th>\n",
       "      <td>1</td>\n",
       "      <td>914</td>\n",
       "      <td>3</td>\n",
       "      <td>978301968</td>\n",
       "    </tr>\n",
       "    <tr>\n",
       "      <th>3</th>\n",
       "      <td>1</td>\n",
       "      <td>3408</td>\n",
       "      <td>4</td>\n",
       "      <td>978300275</td>\n",
       "    </tr>\n",
       "    <tr>\n",
       "      <th>4</th>\n",
       "      <td>1</td>\n",
       "      <td>2355</td>\n",
       "      <td>5</td>\n",
       "      <td>978824291</td>\n",
       "    </tr>\n",
       "  </tbody>\n",
       "</table>\n",
       "</div>"
      ],
      "text/plain": [
       "   user_id  movie_id  ratings  timestamp\n",
       "0        1      1193        5  978300760\n",
       "1        1       661        3  978302109\n",
       "2        1       914        3  978301968\n",
       "3        1      3408        4  978300275\n",
       "4        1      2355        5  978824291"
      ]
     },
     "execution_count": 1,
     "metadata": {},
     "output_type": "execute_result"
    }
   ],
   "source": [
    "import os\n",
    "import pandas as pd\n",
    "import seaborn as sns\n",
    "rating_file_path=os.getenv('HOME') + '/aiffel/recommendata_iu/data/ml-1m/ratings.dat'\n",
    "ratings_names = ['user_id', 'movie_id', 'ratings', 'timestamp']\n",
    "ratings = pd.read_csv(rating_file_path, sep='::', names=ratings_names, engine='python', encoding = \"ISO-8859-1\")\n",
    "orginal_data_size = len(ratings)\n",
    "ratings.head()"
   ]
  },
  {
   "cell_type": "code",
   "execution_count": 2,
   "id": "b240226a",
   "metadata": {},
   "outputs": [
    {
     "name": "stdout",
     "output_type": "stream",
     "text": [
      "orginal_data_size: 1000209, filtered_data_size: 836478\n",
      "Ratio of Remaining Data is 83.63%\n"
     ]
    }
   ],
   "source": [
    "# 3점 이상만 남긴다. \n",
    "ratings = ratings[ratings['ratings']>=3]\n",
    "filtered_data_size = len(ratings)\n",
    "\n",
    "print(f'orginal_data_size: {orginal_data_size}, filtered_data_size: {filtered_data_size}')\n",
    "print(f'Ratio of Remaining Data is {filtered_data_size / orginal_data_size:.2%}')"
   ]
  },
  {
   "cell_type": "code",
   "execution_count": 3,
   "id": "84b25d2d",
   "metadata": {},
   "outputs": [],
   "source": [
    "# ratings 컬럼의 이름을 counts로 바꾼다.\n",
    "ratings.rename(columns={'ratings':'counts'}, inplace=True)"
   ]
  },
  {
   "cell_type": "code",
   "execution_count": 4,
   "id": "5caf4a0e",
   "metadata": {},
   "outputs": [
    {
     "data": {
      "text/plain": [
       "0          5\n",
       "1          3\n",
       "2          3\n",
       "3          4\n",
       "4          5\n",
       "          ..\n",
       "1000203    3\n",
       "1000205    5\n",
       "1000206    5\n",
       "1000207    4\n",
       "1000208    4\n",
       "Name: counts, Length: 836478, dtype: int64"
      ]
     },
     "execution_count": 4,
     "metadata": {},
     "output_type": "execute_result"
    }
   ],
   "source": [
    "ratings['counts']"
   ]
  },
  {
   "cell_type": "code",
   "execution_count": 5,
   "id": "fa7ad537",
   "metadata": {
    "scrolled": false
   },
   "outputs": [
    {
     "data": {
      "text/html": [
       "<div>\n",
       "<style scoped>\n",
       "    .dataframe tbody tr th:only-of-type {\n",
       "        vertical-align: middle;\n",
       "    }\n",
       "\n",
       "    .dataframe tbody tr th {\n",
       "        vertical-align: top;\n",
       "    }\n",
       "\n",
       "    .dataframe thead th {\n",
       "        text-align: right;\n",
       "    }\n",
       "</style>\n",
       "<table border=\"1\" class=\"dataframe\">\n",
       "  <thead>\n",
       "    <tr style=\"text-align: right;\">\n",
       "      <th></th>\n",
       "      <th>movie_id</th>\n",
       "      <th>title</th>\n",
       "      <th>genre</th>\n",
       "    </tr>\n",
       "  </thead>\n",
       "  <tbody>\n",
       "    <tr>\n",
       "      <th>0</th>\n",
       "      <td>1</td>\n",
       "      <td>Toy Story (1995)</td>\n",
       "      <td>Animation|Children's|Comedy</td>\n",
       "    </tr>\n",
       "    <tr>\n",
       "      <th>1</th>\n",
       "      <td>2</td>\n",
       "      <td>Jumanji (1995)</td>\n",
       "      <td>Adventure|Children's|Fantasy</td>\n",
       "    </tr>\n",
       "    <tr>\n",
       "      <th>2</th>\n",
       "      <td>3</td>\n",
       "      <td>Grumpier Old Men (1995)</td>\n",
       "      <td>Comedy|Romance</td>\n",
       "    </tr>\n",
       "    <tr>\n",
       "      <th>3</th>\n",
       "      <td>4</td>\n",
       "      <td>Waiting to Exhale (1995)</td>\n",
       "      <td>Comedy|Drama</td>\n",
       "    </tr>\n",
       "    <tr>\n",
       "      <th>4</th>\n",
       "      <td>5</td>\n",
       "      <td>Father of the Bride Part II (1995)</td>\n",
       "      <td>Comedy</td>\n",
       "    </tr>\n",
       "  </tbody>\n",
       "</table>\n",
       "</div>"
      ],
      "text/plain": [
       "   movie_id                               title                         genre\n",
       "0         1                    Toy Story (1995)   Animation|Children's|Comedy\n",
       "1         2                      Jumanji (1995)  Adventure|Children's|Fantasy\n",
       "2         3             Grumpier Old Men (1995)                Comedy|Romance\n",
       "3         4            Waiting to Exhale (1995)                  Comedy|Drama\n",
       "4         5  Father of the Bride Part II (1995)                        Comedy"
      ]
     },
     "execution_count": 5,
     "metadata": {},
     "output_type": "execute_result"
    }
   ],
   "source": [
    "# 영화 제목을 보기 위해 메타 데이터를 로드\n",
    "movie_file_path=os.getenv('HOME') + '/aiffel/recommendata_iu/data/ml-1m/movies.dat'\n",
    "cols = ['movie_id', 'title', 'genre'] \n",
    "movies = pd.read_csv(movie_file_path, sep='::', names=cols, engine='python', encoding='ISO-8859-1')\n",
    "movies.head()"
   ]
  },
  {
   "cell_type": "markdown",
   "id": "a77644ec",
   "metadata": {},
   "source": [
    "### user정보와 movie정보의 고유값(key)인 moivie_id을 기준으로 병합"
   ]
  },
  {
   "cell_type": "code",
   "execution_count": 6,
   "id": "4c0a8b27",
   "metadata": {
    "scrolled": false
   },
   "outputs": [
    {
     "data": {
      "text/html": [
       "<div>\n",
       "<style scoped>\n",
       "    .dataframe tbody tr th:only-of-type {\n",
       "        vertical-align: middle;\n",
       "    }\n",
       "\n",
       "    .dataframe tbody tr th {\n",
       "        vertical-align: top;\n",
       "    }\n",
       "\n",
       "    .dataframe thead th {\n",
       "        text-align: right;\n",
       "    }\n",
       "</style>\n",
       "<table border=\"1\" class=\"dataframe\">\n",
       "  <thead>\n",
       "    <tr style=\"text-align: right;\">\n",
       "      <th></th>\n",
       "      <th>user_id</th>\n",
       "      <th>movie_id</th>\n",
       "      <th>counts</th>\n",
       "      <th>timestamp</th>\n",
       "      <th>title</th>\n",
       "      <th>genre</th>\n",
       "    </tr>\n",
       "  </thead>\n",
       "  <tbody>\n",
       "    <tr>\n",
       "      <th>0</th>\n",
       "      <td>1</td>\n",
       "      <td>1193</td>\n",
       "      <td>5</td>\n",
       "      <td>978300760</td>\n",
       "      <td>One Flew Over the Cuckoo's Nest (1975)</td>\n",
       "      <td>Drama</td>\n",
       "    </tr>\n",
       "    <tr>\n",
       "      <th>1</th>\n",
       "      <td>2</td>\n",
       "      <td>1193</td>\n",
       "      <td>5</td>\n",
       "      <td>978298413</td>\n",
       "      <td>One Flew Over the Cuckoo's Nest (1975)</td>\n",
       "      <td>Drama</td>\n",
       "    </tr>\n",
       "    <tr>\n",
       "      <th>2</th>\n",
       "      <td>12</td>\n",
       "      <td>1193</td>\n",
       "      <td>4</td>\n",
       "      <td>978220179</td>\n",
       "      <td>One Flew Over the Cuckoo's Nest (1975)</td>\n",
       "      <td>Drama</td>\n",
       "    </tr>\n",
       "    <tr>\n",
       "      <th>3</th>\n",
       "      <td>15</td>\n",
       "      <td>1193</td>\n",
       "      <td>4</td>\n",
       "      <td>978199279</td>\n",
       "      <td>One Flew Over the Cuckoo's Nest (1975)</td>\n",
       "      <td>Drama</td>\n",
       "    </tr>\n",
       "    <tr>\n",
       "      <th>4</th>\n",
       "      <td>17</td>\n",
       "      <td>1193</td>\n",
       "      <td>5</td>\n",
       "      <td>978158471</td>\n",
       "      <td>One Flew Over the Cuckoo's Nest (1975)</td>\n",
       "      <td>Drama</td>\n",
       "    </tr>\n",
       "  </tbody>\n",
       "</table>\n",
       "</div>"
      ],
      "text/plain": [
       "   user_id  movie_id  counts  timestamp  \\\n",
       "0        1      1193       5  978300760   \n",
       "1        2      1193       5  978298413   \n",
       "2       12      1193       4  978220179   \n",
       "3       15      1193       4  978199279   \n",
       "4       17      1193       5  978158471   \n",
       "\n",
       "                                    title  genre  \n",
       "0  One Flew Over the Cuckoo's Nest (1975)  Drama  \n",
       "1  One Flew Over the Cuckoo's Nest (1975)  Drama  \n",
       "2  One Flew Over the Cuckoo's Nest (1975)  Drama  \n",
       "3  One Flew Over the Cuckoo's Nest (1975)  Drama  \n",
       "4  One Flew Over the Cuckoo's Nest (1975)  Drama  "
      ]
     },
     "execution_count": 6,
     "metadata": {},
     "output_type": "execute_result"
    }
   ],
   "source": [
    "data = pd.merge(ratings ,movies)\n",
    "data.head()"
   ]
  },
  {
   "cell_type": "markdown",
   "id": "090a9514",
   "metadata": {},
   "source": [
    "### 사용하는 컬럼만 남겨줍니다. (drop으로도 가능)"
   ]
  },
  {
   "cell_type": "code",
   "execution_count": 7,
   "id": "b88b51f4",
   "metadata": {},
   "outputs": [
    {
     "data": {
      "text/html": [
       "<div>\n",
       "<style scoped>\n",
       "    .dataframe tbody tr th:only-of-type {\n",
       "        vertical-align: middle;\n",
       "    }\n",
       "\n",
       "    .dataframe tbody tr th {\n",
       "        vertical-align: top;\n",
       "    }\n",
       "\n",
       "    .dataframe thead th {\n",
       "        text-align: right;\n",
       "    }\n",
       "</style>\n",
       "<table border=\"1\" class=\"dataframe\">\n",
       "  <thead>\n",
       "    <tr style=\"text-align: right;\">\n",
       "      <th></th>\n",
       "      <th>user_id</th>\n",
       "      <th>title</th>\n",
       "      <th>counts</th>\n",
       "    </tr>\n",
       "  </thead>\n",
       "  <tbody>\n",
       "    <tr>\n",
       "      <th>0</th>\n",
       "      <td>1</td>\n",
       "      <td>One Flew Over the Cuckoo's Nest (1975)</td>\n",
       "      <td>5</td>\n",
       "    </tr>\n",
       "    <tr>\n",
       "      <th>1</th>\n",
       "      <td>2</td>\n",
       "      <td>One Flew Over the Cuckoo's Nest (1975)</td>\n",
       "      <td>5</td>\n",
       "    </tr>\n",
       "    <tr>\n",
       "      <th>2</th>\n",
       "      <td>12</td>\n",
       "      <td>One Flew Over the Cuckoo's Nest (1975)</td>\n",
       "      <td>4</td>\n",
       "    </tr>\n",
       "    <tr>\n",
       "      <th>3</th>\n",
       "      <td>15</td>\n",
       "      <td>One Flew Over the Cuckoo's Nest (1975)</td>\n",
       "      <td>4</td>\n",
       "    </tr>\n",
       "    <tr>\n",
       "      <th>4</th>\n",
       "      <td>17</td>\n",
       "      <td>One Flew Over the Cuckoo's Nest (1975)</td>\n",
       "      <td>5</td>\n",
       "    </tr>\n",
       "    <tr>\n",
       "      <th>5</th>\n",
       "      <td>18</td>\n",
       "      <td>One Flew Over the Cuckoo's Nest (1975)</td>\n",
       "      <td>4</td>\n",
       "    </tr>\n",
       "    <tr>\n",
       "      <th>6</th>\n",
       "      <td>19</td>\n",
       "      <td>One Flew Over the Cuckoo's Nest (1975)</td>\n",
       "      <td>5</td>\n",
       "    </tr>\n",
       "    <tr>\n",
       "      <th>7</th>\n",
       "      <td>24</td>\n",
       "      <td>One Flew Over the Cuckoo's Nest (1975)</td>\n",
       "      <td>5</td>\n",
       "    </tr>\n",
       "    <tr>\n",
       "      <th>8</th>\n",
       "      <td>28</td>\n",
       "      <td>One Flew Over the Cuckoo's Nest (1975)</td>\n",
       "      <td>3</td>\n",
       "    </tr>\n",
       "    <tr>\n",
       "      <th>9</th>\n",
       "      <td>33</td>\n",
       "      <td>One Flew Over the Cuckoo's Nest (1975)</td>\n",
       "      <td>5</td>\n",
       "    </tr>\n",
       "  </tbody>\n",
       "</table>\n",
       "</div>"
      ],
      "text/plain": [
       "   user_id                                   title  counts\n",
       "0        1  One Flew Over the Cuckoo's Nest (1975)       5\n",
       "1        2  One Flew Over the Cuckoo's Nest (1975)       5\n",
       "2       12  One Flew Over the Cuckoo's Nest (1975)       4\n",
       "3       15  One Flew Over the Cuckoo's Nest (1975)       4\n",
       "4       17  One Flew Over the Cuckoo's Nest (1975)       5\n",
       "5       18  One Flew Over the Cuckoo's Nest (1975)       4\n",
       "6       19  One Flew Over the Cuckoo's Nest (1975)       5\n",
       "7       24  One Flew Over the Cuckoo's Nest (1975)       5\n",
       "8       28  One Flew Over the Cuckoo's Nest (1975)       3\n",
       "9       33  One Flew Over the Cuckoo's Nest (1975)       5"
      ]
     },
     "execution_count": 7,
     "metadata": {},
     "output_type": "execute_result"
    }
   ],
   "source": [
    "using_cols = ['user_id', 'title', 'counts']\n",
    "data = data[using_cols]\n",
    "data.head(10)"
   ]
  },
  {
   "cell_type": "markdown",
   "id": "000158c2",
   "metadata": {},
   "source": [
    "여기까지가 전처리입니다. 이후에는 이전 스텝에 소개했던 것과 동일한 방식으로 MF model을 구성하여 내가 좋아할 만한 영화를 추천해 볼 수 있습니다."
   ]
  },
  {
   "cell_type": "markdown",
   "id": "7e02f737",
   "metadata": {},
   "source": [
    "## 2) 분석해 봅시다.\n",
    "* ratings에 있는 유니크한 영화 개수\n",
    "* ratings에 있는 유니크한 사용자 수\n",
    "* 가장 인기 있는 영화 30개(인기순)"
   ]
  },
  {
   "cell_type": "markdown",
   "id": "1650b4b9",
   "metadata": {},
   "source": [
    "nunique 은 중복 제거하고 데이터 갯수 보여줌  \n",
    "unique 은 어떤 데이터 값들이 있는지를 중복 제거하고 보여줌"
   ]
  },
  {
   "cell_type": "code",
   "execution_count": 8,
   "id": "c42d2121",
   "metadata": {},
   "outputs": [
    {
     "data": {
      "text/plain": [
       "3628"
      ]
     },
     "execution_count": 8,
     "metadata": {},
     "output_type": "execute_result"
    }
   ],
   "source": [
    "# data에 있는 유니크한 영화 개수\n",
    "data['title'].nunique()"
   ]
  },
  {
   "cell_type": "code",
   "execution_count": 9,
   "id": "f2ded450",
   "metadata": {},
   "outputs": [
    {
     "data": {
      "text/plain": [
       "6039"
      ]
     },
     "execution_count": 9,
     "metadata": {},
     "output_type": "execute_result"
    }
   ],
   "source": [
    "# data에 있는 유니크한 사용자 수\n",
    "data['user_id'].nunique()"
   ]
  },
  {
   "cell_type": "code",
   "execution_count": 10,
   "id": "d656db7c",
   "metadata": {},
   "outputs": [
    {
     "data": {
      "text/plain": [
       "title\n",
       "American Beauty (1999)                                   3211\n",
       "Star Wars: Episode IV - A New Hope (1977)                2910\n",
       "Star Wars: Episode V - The Empire Strikes Back (1980)    2885\n",
       "Star Wars: Episode VI - Return of the Jedi (1983)        2716\n",
       "Saving Private Ryan (1998)                               2561\n",
       "Terminator 2: Judgment Day (1991)                        2509\n",
       "Silence of the Lambs, The (1991)                         2498\n",
       "Raiders of the Lost Ark (1981)                           2473\n",
       "Back to the Future (1985)                                2460\n",
       "Matrix, The (1999)                                       2434\n",
       "Jurassic Park (1993)                                     2413\n",
       "Sixth Sense, The (1999)                                  2385\n",
       "Fargo (1996)                                             2371\n",
       "Braveheart (1995)                                        2314\n",
       "Men in Black (1997)                                      2297\n",
       "Schindler's List (1993)                                  2257\n",
       "Princess Bride, The (1987)                               2252\n",
       "Shakespeare in Love (1998)                               2213\n",
       "L.A. Confidential (1997)                                 2210\n",
       "Shawshank Redemption, The (1994)                         2194\n",
       "Godfather, The (1972)                                    2167\n",
       "Groundhog Day (1993)                                     2121\n",
       "E.T. the Extra-Terrestrial (1982)                        2102\n",
       "Being John Malkovich (1999)                              2066\n",
       "Ghostbusters (1984)                                      2051\n",
       "Pulp Fiction (1994)                                      2030\n",
       "Forrest Gump (1994)                                      2022\n",
       "Terminator, The (1984)                                   2019\n",
       "Toy Story (1995)                                         2000\n",
       "Fugitive, The (1993)                                     1941\n",
       "Name: user_id, dtype: int64"
      ]
     },
     "execution_count": 10,
     "metadata": {},
     "output_type": "execute_result"
    }
   ],
   "source": [
    "# 가장 인기 있는 영화 30개(인기순)\n",
    "title_count = data.groupby('title')['user_id'].count()\n",
    "title_count.sort_values(ascending=False).head(30)"
   ]
  },
  {
   "cell_type": "code",
   "execution_count": 11,
   "id": "aedae977",
   "metadata": {},
   "outputs": [
    {
     "data": {
      "text/plain": [
       "count    6039.000000\n",
       "mean      138.512668\n",
       "std       156.241599\n",
       "min         1.000000\n",
       "25%        38.000000\n",
       "50%        81.000000\n",
       "75%       177.000000\n",
       "max      1968.000000\n",
       "Name: title, dtype: float64"
      ]
     },
     "execution_count": 11,
     "metadata": {},
     "output_type": "execute_result"
    }
   ],
   "source": [
    "# 사용자 별 몇 개의 영화를 봤는지에 대한 통계\n",
    "user_count = data.groupby('user_id')['title'].count()\n",
    "user_count.describe()"
   ]
  },
  {
   "cell_type": "code",
   "execution_count": 12,
   "id": "2462a4fd",
   "metadata": {
    "scrolled": true
   },
   "outputs": [],
   "source": [
    "# 그래프로 확인\n",
    "\n",
    "#sns.barplot(x = data.groupby('user_id')['title'].count())"
   ]
  },
  {
   "cell_type": "markdown",
   "id": "ded05e4d",
   "metadata": {},
   "source": [
    "## 3) 내가 선호하는 영화를 5가지 골라서 ratings에 추가해 줍시다."
   ]
  },
  {
   "cell_type": "code",
   "execution_count": 13,
   "id": "0fc3c1a7",
   "metadata": {
    "scrolled": false
   },
   "outputs": [
    {
     "data": {
      "text/html": [
       "<div>\n",
       "<style scoped>\n",
       "    .dataframe tbody tr th:only-of-type {\n",
       "        vertical-align: middle;\n",
       "    }\n",
       "\n",
       "    .dataframe tbody tr th {\n",
       "        vertical-align: top;\n",
       "    }\n",
       "\n",
       "    .dataframe thead th {\n",
       "        text-align: right;\n",
       "    }\n",
       "</style>\n",
       "<table border=\"1\" class=\"dataframe\">\n",
       "  <thead>\n",
       "    <tr style=\"text-align: right;\">\n",
       "      <th></th>\n",
       "      <th>user_id</th>\n",
       "      <th>title</th>\n",
       "      <th>counts</th>\n",
       "    </tr>\n",
       "  </thead>\n",
       "  <tbody>\n",
       "    <tr>\n",
       "      <th>836473</th>\n",
       "      <td>5851</td>\n",
       "      <td>One Little Indian (1973)</td>\n",
       "      <td>5</td>\n",
       "    </tr>\n",
       "    <tr>\n",
       "      <th>836474</th>\n",
       "      <td>5854</td>\n",
       "      <td>Slaughterhouse (1987)</td>\n",
       "      <td>4</td>\n",
       "    </tr>\n",
       "    <tr>\n",
       "      <th>836475</th>\n",
       "      <td>5854</td>\n",
       "      <td>Promise, The (Versprechen, Das) (1994)</td>\n",
       "      <td>3</td>\n",
       "    </tr>\n",
       "    <tr>\n",
       "      <th>836476</th>\n",
       "      <td>5938</td>\n",
       "      <td>Five Wives, Three Secretaries and Me (1998)</td>\n",
       "      <td>4</td>\n",
       "    </tr>\n",
       "    <tr>\n",
       "      <th>836477</th>\n",
       "      <td>5948</td>\n",
       "      <td>Identification of a Woman (Identificazione di ...</td>\n",
       "      <td>5</td>\n",
       "    </tr>\n",
       "    <tr>\n",
       "      <th>0</th>\n",
       "      <td>changmin</td>\n",
       "      <td>Terminator 2: Judgment Day (1991)</td>\n",
       "      <td>3</td>\n",
       "    </tr>\n",
       "    <tr>\n",
       "      <th>1</th>\n",
       "      <td>changmin</td>\n",
       "      <td>Silence of the Lambs, The (1991)</td>\n",
       "      <td>3</td>\n",
       "    </tr>\n",
       "    <tr>\n",
       "      <th>2</th>\n",
       "      <td>changmin</td>\n",
       "      <td>Matrix, The (1999)</td>\n",
       "      <td>3</td>\n",
       "    </tr>\n",
       "    <tr>\n",
       "      <th>3</th>\n",
       "      <td>changmin</td>\n",
       "      <td>Sixth Sense, The (1999)</td>\n",
       "      <td>3</td>\n",
       "    </tr>\n",
       "    <tr>\n",
       "      <th>4</th>\n",
       "      <td>changmin</td>\n",
       "      <td>Men in Black (1997)</td>\n",
       "      <td>3</td>\n",
       "    </tr>\n",
       "  </tbody>\n",
       "</table>\n",
       "</div>"
      ],
      "text/plain": [
       "         user_id                                              title  counts\n",
       "836473      5851                           One Little Indian (1973)       5\n",
       "836474      5854                              Slaughterhouse (1987)       4\n",
       "836475      5854             Promise, The (Versprechen, Das) (1994)       3\n",
       "836476      5938        Five Wives, Three Secretaries and Me (1998)       4\n",
       "836477      5948  Identification of a Woman (Identificazione di ...       5\n",
       "0       changmin                  Terminator 2: Judgment Day (1991)       3\n",
       "1       changmin                Silence of the Lambs, The (1991)          3\n",
       "2       changmin                                 Matrix, The (1999)       3\n",
       "3       changmin                            Sixth Sense, The (1999)       3\n",
       "4       changmin                                Men in Black (1997)       3"
      ]
     },
     "execution_count": 13,
     "metadata": {},
     "output_type": "execute_result"
    }
   ],
   "source": [
    "my_favorite = ['Terminator 2: Judgment Day (1991)' , 'Silence of the Lambs, The (1991)   ' ,'Matrix, The (1999)' ,'Sixth Sense, The (1999)' ,'Men in Black (1997)']\n",
    "\n",
    "# 'changmin'이라는 user_id가 위 영화를 3회씩 들었다고 가정하겠습니다.\n",
    "my_movielist = pd.DataFrame({'user_id': ['changmin']*5, 'title': my_favorite, 'counts':[3]*5})\n",
    "\n",
    "if not data.isin({'user_id':['changmin']})['user_id'].any():  # user_id에 'changmin'이라는 데이터가 없다면\n",
    "    data = data.append(my_movielist)                           # 위에 임의로 만든 my_favorite 데이터를 추가해 줍니다. \n",
    "\n",
    "data.tail(10)       # 잘 추가되었는지 확인해 봅시다."
   ]
  },
  {
   "cell_type": "markdown",
   "id": "ceefb20d",
   "metadata": {},
   "source": [
    "### 모델에 활용하기 위한 전처리 (실습)\n",
    "\n",
    "사람이 태어나면 주민등록번호가, 학교에 가면 출석번호가 있듯이 데이터의 관리를 쉽게 하기 위해 번호를 붙여주고 싶습니다. 우리가 다루는 데이터에서는 user와 artist 각각에 번호를 붙이고 싶습니다. 보통 이런 작업을 indexing이라고 합니다. 추천 시스템, 자연어 처리에서 자주 하는 작업들이라 직접 해보시면 좋겠습니다."
   ]
  },
  {
   "cell_type": "code",
   "execution_count": 14,
   "id": "128e01eb",
   "metadata": {},
   "outputs": [],
   "source": [
    "# 고유한 유저, 영화를 찾아내는 코드\n",
    "user_unique = data['user_id'].unique()\n",
    "title_unique = data['title'].unique()\n",
    "\n",
    "# 유저, 영화 indexing하는 코드\n",
    "user_to_idx = {v:k for k, v in enumerate(user_unique)}\n",
    "title_to_idx = {v:k for k, v in enumerate(title_unique)}"
   ]
  },
  {
   "cell_type": "code",
   "execution_count": 15,
   "id": "495df48d",
   "metadata": {},
   "outputs": [
    {
     "name": "stdout",
     "output_type": "stream",
     "text": [
      "6039\n",
      "124\n"
     ]
    }
   ],
   "source": [
    "# 인덱싱이 잘 되었는지 확인\n",
    "print(user_to_idx['changmin'])  # 6040명의 유저 중 마지막으로 추가된 유저라서 6039이 나와야 한다. \n",
    "print(title_to_idx['Matrix, The (1999)'])"
   ]
  },
  {
   "cell_type": "code",
   "execution_count": 16,
   "id": "cb22aa6d",
   "metadata": {},
   "outputs": [
    {
     "name": "stdout",
     "output_type": "stream",
     "text": [
      "user_id column indexing OK!!\n",
      "title column indexing OK!!\n"
     ]
    },
    {
     "data": {
      "text/html": [
       "<div>\n",
       "<style scoped>\n",
       "    .dataframe tbody tr th:only-of-type {\n",
       "        vertical-align: middle;\n",
       "    }\n",
       "\n",
       "    .dataframe tbody tr th {\n",
       "        vertical-align: top;\n",
       "    }\n",
       "\n",
       "    .dataframe thead th {\n",
       "        text-align: right;\n",
       "    }\n",
       "</style>\n",
       "<table border=\"1\" class=\"dataframe\">\n",
       "  <thead>\n",
       "    <tr style=\"text-align: right;\">\n",
       "      <th></th>\n",
       "      <th>user_id</th>\n",
       "      <th>title</th>\n",
       "      <th>counts</th>\n",
       "    </tr>\n",
       "  </thead>\n",
       "  <tbody>\n",
       "    <tr>\n",
       "      <th>0</th>\n",
       "      <td>0</td>\n",
       "      <td>0</td>\n",
       "      <td>5</td>\n",
       "    </tr>\n",
       "    <tr>\n",
       "      <th>1</th>\n",
       "      <td>1</td>\n",
       "      <td>0</td>\n",
       "      <td>5</td>\n",
       "    </tr>\n",
       "    <tr>\n",
       "      <th>2</th>\n",
       "      <td>2</td>\n",
       "      <td>0</td>\n",
       "      <td>4</td>\n",
       "    </tr>\n",
       "    <tr>\n",
       "      <th>3</th>\n",
       "      <td>3</td>\n",
       "      <td>0</td>\n",
       "      <td>4</td>\n",
       "    </tr>\n",
       "    <tr>\n",
       "      <th>4</th>\n",
       "      <td>4</td>\n",
       "      <td>0</td>\n",
       "      <td>5</td>\n",
       "    </tr>\n",
       "    <tr>\n",
       "      <th>...</th>\n",
       "      <td>...</td>\n",
       "      <td>...</td>\n",
       "      <td>...</td>\n",
       "    </tr>\n",
       "    <tr>\n",
       "      <th>0</th>\n",
       "      <td>6039</td>\n",
       "      <td>92</td>\n",
       "      <td>3</td>\n",
       "    </tr>\n",
       "    <tr>\n",
       "      <th>1</th>\n",
       "      <td>6039</td>\n",
       "      <td>3628</td>\n",
       "      <td>3</td>\n",
       "    </tr>\n",
       "    <tr>\n",
       "      <th>2</th>\n",
       "      <td>6039</td>\n",
       "      <td>124</td>\n",
       "      <td>3</td>\n",
       "    </tr>\n",
       "    <tr>\n",
       "      <th>3</th>\n",
       "      <td>6039</td>\n",
       "      <td>38</td>\n",
       "      <td>3</td>\n",
       "    </tr>\n",
       "    <tr>\n",
       "      <th>4</th>\n",
       "      <td>6039</td>\n",
       "      <td>175</td>\n",
       "      <td>3</td>\n",
       "    </tr>\n",
       "  </tbody>\n",
       "</table>\n",
       "<p>836483 rows × 3 columns</p>\n",
       "</div>"
      ],
      "text/plain": [
       "    user_id  title  counts\n",
       "0         0      0       5\n",
       "1         1      0       5\n",
       "2         2      0       4\n",
       "3         3      0       4\n",
       "4         4      0       5\n",
       "..      ...    ...     ...\n",
       "0      6039     92       3\n",
       "1      6039   3628       3\n",
       "2      6039    124       3\n",
       "3      6039     38       3\n",
       "4      6039    175       3\n",
       "\n",
       "[836483 rows x 3 columns]"
      ]
     },
     "execution_count": 16,
     "metadata": {},
     "output_type": "execute_result"
    }
   ],
   "source": [
    "# indexing을 통해 데이터 컬럼 내 값을 바꾸는 코드\n",
    "# dictionary 자료형의 get 함수는 https://wikidocs.net/16 참고\n",
    "\n",
    "# user_to_idx.get을 통해 user_id 컬럼의 모든 값을 인덱싱한 Series를 구해보자. \n",
    "# 혹시 정상적으로 인덱싱되지 않은 row가 있다면 인덱스가 NaN이 될테니 dropna()로 제거\n",
    "temp_user_data = data['user_id'].map(user_to_idx.get).dropna()\n",
    "if len(temp_user_data) == len(data):  # 모든 row가 정상적으로 인덱싱되었다면\n",
    "    print('user_id column indexing OK!!')\n",
    "    data['user_id'] = temp_user_data\n",
    "else:\n",
    "    print('user_id column indexing Fail!!')\n",
    "    \n",
    "# title_to_idx를 통해 artist 컬럼도 동일한 방식으로 인덱싱\n",
    "temp_title_data = data['title'].map(title_to_idx.get).dropna()\n",
    "if len(temp_title_data) == len(data):\n",
    "    print('title column indexing OK!!')\n",
    "    data['title'] = temp_title_data\n",
    "else:\n",
    "    print('title column indexing Fail!!')\n",
    "\n",
    "data"
   ]
  },
  {
   "cell_type": "markdown",
   "id": "f8df9216",
   "metadata": {},
   "source": [
    "data의 user_id와 artist 컬럼 내 값들이 모두 정수 인덱스 값으로 잘 변경었습니다. 이것으로 훈련을 위한 전처리가 완료되었습니다."
   ]
  },
  {
   "cell_type": "markdown",
   "id": "e314cce8",
   "metadata": {},
   "source": [
    "## 4) CSR(Compressed Sparse Row) Matrix를 직접 만들어 봅시다."
   ]
  },
  {
   "cell_type": "code",
   "execution_count": 17,
   "id": "54fe424e",
   "metadata": {},
   "outputs": [
    {
     "data": {
      "text/plain": [
       "<6040x3629 sparse matrix of type '<class 'numpy.int64'>'\n",
       "\twith 836483 stored elements in Compressed Sparse Row format>"
      ]
     },
     "execution_count": 17,
     "metadata": {},
     "output_type": "execute_result"
    }
   ],
   "source": [
    "from scipy.sparse import csr_matrix\n",
    "\n",
    "num_user = data['user_id'].nunique()\n",
    "num_title = data['title'].nunique()\n",
    "\n",
    "csr_data = csr_matrix((data.counts, (data.user_id, data.title)), shape=(num_user, num_title))\n",
    "csr_data"
   ]
  },
  {
   "cell_type": "markdown",
   "id": "699c48fb",
   "metadata": {},
   "source": [
    "우리가 앞으로 만들어갈 모델에서는 암묵적 데이터의 해석을 위해 다음과 같은 규칙을 적용할 것입니다.\n",
    "\n",
    "한 번이라도 들었으면 선호한다고 판단한다.\n",
    "많이 재생한 아티스트에 대해 가중치를 주어서 더 확실히 좋아한다고 판단한다."
   ]
  },
  {
   "cell_type": "markdown",
   "id": "1c766fc6",
   "metadata": {},
   "source": [
    "## 5) als_model = AlternatingLeastSquares 모델을 직접 구성하여 훈련시켜 봅시다.\n",
    "\n",
    "### MF 모델 학습하기\n",
    "\n",
    "* implicit 패키지는 이전 스텝에서 설명한 암묵적(implicit) dataset을 사용하는 다양한 모델을 굉장히 빠르게 학습할 수 있는 패키지입니다.  \n",
    "* 이 패키지에 구현된 als(AlternatingLeastSquares) 모델을 사용하겠습니다. Matrix Factorization에서 쪼개진 두 Feature Matrix를 한꺼번에 훈련하는 것은 잘 수렴하지 않기 때문에, 한쪽을 고정시키고 다른 쪽을 학습하는 방식을 번갈아 수행하는 AlternatingLeastSquares 방식이 효과적인 것으로 알려져 있습니다."
   ]
  },
  {
   "cell_type": "code",
   "execution_count": 18,
   "id": "db7330e7",
   "metadata": {},
   "outputs": [],
   "source": [
    "from implicit.als import AlternatingLeastSquares\n",
    "import os\n",
    "import numpy as np\n",
    "\n",
    "# implicit 라이브러리에서 권장하고 있는 부분입니다. 학습 내용과는 무관합니다.\n",
    "os.environ['OPENBLAS_NUM_THREADS']='1'\n",
    "os.environ['KMP_DUPLICATE_LIB_OK']='True'\n",
    "os.environ['MKL_NUM_THREADS']='1'"
   ]
  },
  {
   "cell_type": "markdown",
   "id": "aceb300f",
   "metadata": {},
   "source": [
    "AlternatingLeastSquares 클래스의 __init__ 파라미터를 살펴보겠습니다.\n",
    "\n",
    "* factors : 유저와 아이템의 벡터를 몇 차원으로 할 것인지\n",
    "* regularization : 과적합을 방지하기 위해 정규화 값을 얼마나 사용할 것인지\n",
    "* use_gpu : GPU를 사용할 것인지\n",
    "* iterations : epochs와 같은 의미입니다. 데이터를 몇 번 반복해서 학습할 것인지  \n",
    "\n",
    "1과 4를 늘릴수록 학습 데이터를 잘 학습하게 되지만 과적합의 우려가 있으니 좋은 값을 찾아야 합니다."
   ]
  },
  {
   "cell_type": "code",
   "execution_count": 19,
   "id": "5815dd00",
   "metadata": {},
   "outputs": [],
   "source": [
    "# Implicit AlternatingLeastSquares 모델의 선언\n",
    "als_model = AlternatingLeastSquares(factors=100, regularization=0.01, use_gpu=False, iterations=15, dtype=np.float32)"
   ]
  },
  {
   "cell_type": "code",
   "execution_count": 20,
   "id": "faa750fe",
   "metadata": {},
   "outputs": [
    {
     "data": {
      "text/plain": [
       "<3629x6040 sparse matrix of type '<class 'numpy.int64'>'\n",
       "\twith 836483 stored elements in Compressed Sparse Column format>"
      ]
     },
     "execution_count": 20,
     "metadata": {},
     "output_type": "execute_result"
    }
   ],
   "source": [
    "# als 모델은 input으로 (item X user 꼴의 matrix를 받기 때문에 Transpose해줍니다.)\n",
    "csr_data_transpose = csr_data.T\n",
    "csr_data_transpose"
   ]
  },
  {
   "cell_type": "code",
   "execution_count": 21,
   "id": "19e95f5f",
   "metadata": {},
   "outputs": [
    {
     "data": {
      "application/vnd.jupyter.widget-view+json": {
       "model_id": "20d7dc06c80840828b158fd333fb0c69",
       "version_major": 2,
       "version_minor": 0
      },
      "text/plain": [
       "  0%|          | 0/15 [00:00<?, ?it/s]"
      ]
     },
     "metadata": {},
     "output_type": "display_data"
    }
   ],
   "source": [
    "# 모델 훈련\n",
    "als_model.fit(csr_data_transpose)"
   ]
  },
  {
   "cell_type": "markdown",
   "id": "ec9e8b56",
   "metadata": {},
   "source": [
    "## 6) 내가 선호하는 5가지 영화 중 하나와 그 외의 영화 하나를 골라 훈련된 모델이 예측한 나의 선호도를 파악해 보세요."
   ]
  },
  {
   "cell_type": "markdown",
   "id": "d8ac0d11",
   "metadata": {},
   "source": [
    "### 모델 학습이 끝났습니다 이제 2가지를 아래 사항을 살펴보도록 하겠습니다.\n",
    "\n",
    "1. changmin 벡터와 Matrix, The (1999)의 벡터를 어떻게 만들고 있는지\n",
    "2. 두 벡터를 곱하면 어떤 값이 나오는지\n"
   ]
  },
  {
   "cell_type": "code",
   "execution_count": 22,
   "id": "2ad209a2",
   "metadata": {
    "scrolled": true
   },
   "outputs": [
    {
     "name": "stdout",
     "output_type": "stream",
     "text": [
      "슝=3\n"
     ]
    }
   ],
   "source": [
    "changmin, Matrix_The_1999 = user_to_idx['changmin'], title_to_idx['Matrix, The (1999)']\n",
    "changmin_vector, Matrix_The_1999_vector = als_model.user_factors[changmin], als_model.item_factors[Matrix_The_1999]\n",
    "print('슝=3')"
   ]
  },
  {
   "cell_type": "code",
   "execution_count": 23,
   "id": "0e73fafc",
   "metadata": {
    "scrolled": true
   },
   "outputs": [
    {
     "data": {
      "text/plain": [
       "array([-0.17914243,  0.326262  ,  0.18955071,  0.47753876, -0.36719096,\n",
       "        0.07101326, -0.47124076, -0.32982677, -0.34534726, -0.20842533,\n",
       "       -0.1661417 , -0.05393067, -0.11867929, -0.61595196,  0.40284127,\n",
       "       -0.04195413, -0.7882799 , -0.21388821,  0.5389449 ,  0.04755956,\n",
       "        0.04157804,  0.0116101 ,  0.24355316,  0.34569326, -0.3104159 ,\n",
       "       -0.28699216,  0.26446617, -0.0578205 ,  0.06816526,  0.8625837 ,\n",
       "        0.37200218,  0.06526683,  0.36259845, -0.46804917,  0.26409134,\n",
       "        0.40273827,  0.28691256,  0.18363477, -0.56123865, -0.10990005,\n",
       "        0.01719218, -0.400725  , -0.01218794,  0.4724239 ,  0.24406435,\n",
       "       -0.31994686, -0.21682104,  0.28429025, -0.297543  ,  0.03616602,\n",
       "        0.32581314,  0.4224097 , -0.8138117 , -0.04328337, -0.06695866,\n",
       "        0.59934014,  0.49767795, -0.667124  , -0.5743107 ,  1.0210266 ,\n",
       "       -0.35531247, -0.86971825, -0.31047744, -0.05362161, -0.12664475,\n",
       "       -0.12344241,  0.66187644,  0.35977155, -0.23090336, -0.15501255,\n",
       "       -0.08527227,  0.66051805, -0.03131251,  0.5534806 ,  0.17908297,\n",
       "        0.5053524 ,  0.62472963,  0.21863519,  0.01178204,  0.12387262,\n",
       "        0.52497715,  0.14413539, -1.040859  ,  0.497721  ,  0.11294211,\n",
       "       -0.11984815, -0.4450683 ,  0.2948501 , -0.1192099 ,  0.41119757,\n",
       "       -0.87114346,  0.51009715, -0.14739487, -0.07822718, -0.44541916,\n",
       "        0.02818668, -0.2818626 ,  0.20299396, -0.47549674,  0.27754825],\n",
       "      dtype=float32)"
      ]
     },
     "execution_count": 23,
     "metadata": {},
     "output_type": "execute_result"
    }
   ],
   "source": [
    "changmin_vector"
   ]
  },
  {
   "cell_type": "code",
   "execution_count": 24,
   "id": "88eab228",
   "metadata": {},
   "outputs": [
    {
     "data": {
      "text/plain": [
       "array([-0.00021273,  0.01587959,  0.0172383 ,  0.02782312, -0.00501156,\n",
       "       -0.00763333, -0.02038139, -0.01950873, -0.01620864, -0.00652421,\n",
       "       -0.01413937,  0.00742623, -0.0096157 , -0.00889781,  0.00512385,\n",
       "        0.03467052, -0.02081076,  0.00824839,  0.01727368, -0.00937213,\n",
       "        0.00729305,  0.01448663,  0.01790546,  0.00817062, -0.00093605,\n",
       "        0.00440212,  0.01031222,  0.00801695,  0.00058064,  0.0408287 ,\n",
       "        0.01985225,  0.02631734,  0.01571124, -0.01400559,  0.01818045,\n",
       "       -0.00644386,  0.03520104,  0.009517  ,  0.00304847,  0.00052352,\n",
       "        0.01908033, -0.00795843,  0.02125354,  0.01949961,  0.02907239,\n",
       "       -0.01135551, -0.00758229,  0.03086883, -0.00827681,  0.01519198,\n",
       "        0.01878341,  0.02124492, -0.01403974,  0.00562721, -0.00302977,\n",
       "        0.02259221,  0.02712061,  0.00750748, -0.01699543,  0.04178003,\n",
       "       -0.00143391, -0.02017764, -0.0158458 ,  0.02166191, -0.00955881,\n",
       "       -0.00833225,  0.040587  ,  0.01468922, -0.00702858, -0.006266  ,\n",
       "       -0.00750472,  0.01120207, -0.00095109,  0.02837365,  0.00275845,\n",
       "        0.01067989,  0.0169061 ,  0.02089895, -0.00180619,  0.0190571 ,\n",
       "        0.02697912, -0.00972237, -0.01476735,  0.01965043, -0.01141536,\n",
       "        0.00015835, -0.02194598,  0.01360626, -0.00817695,  0.03396085,\n",
       "       -0.0182542 ,  0.02274249,  0.0130472 ,  0.00625971, -0.01327315,\n",
       "        0.00499936,  0.00534072,  0.00896941, -0.01342177,  0.0363657 ],\n",
       "      dtype=float32)"
      ]
     },
     "execution_count": 24,
     "metadata": {},
     "output_type": "execute_result"
    }
   ],
   "source": [
    "Matrix_The_1999_vector"
   ]
  },
  {
   "cell_type": "code",
   "execution_count": 25,
   "id": "bdbfbcb1",
   "metadata": {},
   "outputs": [
    {
     "data": {
      "text/plain": [
       "0.51334596"
      ]
     },
     "execution_count": 25,
     "metadata": {},
     "output_type": "execute_result"
    }
   ],
   "source": [
    "# changmin과 Matrix_The_1999_vector를 내적하는 코드\n",
    "np.dot(changmin_vector,Matrix_The_1999_vector)"
   ]
  },
  {
   "cell_type": "markdown",
   "id": "5f91cf1d",
   "metadata": {},
   "source": [
    "## 7) 내가 좋아하는 영화와 비슷한 영화를 추천받아 봅시다.\n",
    "\n",
    "AlternatingLeastSquares 클래스에 구현되어 있는 similar_items 메서드를 통하여 비슷한 영화를 찾습니다. 처음으로는 제가 좋아하는 Matrix, The (1999)로 찾아보겠습니다."
   ]
  },
  {
   "cell_type": "code",
   "execution_count": 26,
   "id": "ba9c7e90",
   "metadata": {},
   "outputs": [
    {
     "data": {
      "text/plain": [
       "[(124, 1.0000001),\n",
       " (92, 0.7754812),\n",
       " (62, 0.6699194),\n",
       " (200, 0.59620863),\n",
       " (141, 0.57743853),\n",
       " (145, 0.57103515),\n",
       " (375, 0.54152644),\n",
       " (107, 0.5015219),\n",
       " (317, 0.49594423),\n",
       " (175, 0.4815462),\n",
       " (75, 0.46178716),\n",
       " (3628, 0.4366822),\n",
       " (44, 0.4316521),\n",
       " (236, 0.40742457),\n",
       " (117, 0.4018374)]"
      ]
     },
     "execution_count": 26,
     "metadata": {},
     "output_type": "execute_result"
    }
   ],
   "source": [
    "favorite_title = 'Matrix, The (1999)'\n",
    "title_id = title_to_idx[favorite_title]\n",
    "similar_title = als_model.similar_items(title_id, N=15)\n",
    "similar_title"
   ]
  },
  {
   "cell_type": "markdown",
   "id": "78bad08f",
   "metadata": {},
   "source": [
    "(영화 id, 유사도) Tuple 로 반환하고 있습니다. 영화의 id를 다시 영화의 이름으로 매핑 시켜 주겠습니다."
   ]
  },
  {
   "cell_type": "code",
   "execution_count": 27,
   "id": "683bc7bb",
   "metadata": {
    "scrolled": true
   },
   "outputs": [
    {
     "data": {
      "text/plain": [
       "['Matrix, The (1999)',\n",
       " 'Terminator 2: Judgment Day (1991)',\n",
       " 'Total Recall (1990)',\n",
       " 'Terminator, The (1984)',\n",
       " 'Fugitive, The (1993)',\n",
       " 'Fifth Element, The (1997)',\n",
       " 'Face/Off (1997)',\n",
       " 'Jurassic Park (1993)',\n",
       " 'Twelve Monkeys (1995)',\n",
       " 'Men in Black (1997)',\n",
       " 'Hunt for Red October, The (1990)',\n",
       " 'Silence of the Lambs, The (1991)   ',\n",
       " 'Star Wars: Episode IV - A New Hope (1977)',\n",
       " 'Speed (1994)',\n",
       " 'Star Wars: Episode V - The Empire Strikes Back (1980)']"
      ]
     },
     "execution_count": 27,
     "metadata": {},
     "output_type": "execute_result"
    }
   ],
   "source": [
    "#artist_to_idx 를 뒤집어, index로부터 artist 이름을 얻는 dict를 생성\n",
    "idx_to_title = {v:k for k,v in title_to_idx.items()}\n",
    "[idx_to_title[i[0]] for i in similar_title]"
   ]
  },
  {
   "cell_type": "markdown",
   "id": "5483aa95",
   "metadata": {},
   "source": [
    "SF,액션물"
   ]
  },
  {
   "cell_type": "code",
   "execution_count": 28,
   "id": "2c082900",
   "metadata": {},
   "outputs": [],
   "source": [
    "# 몇 번 더 반복해서 확인하기 위해 위의 코드 함수화\n",
    "def get_similar_title(title_name: str):\n",
    "    title_id = title_to_idx[title_name]\n",
    "    similar_title = als_model.similar_items(title_id)\n",
    "    similar_title = [idx_to_title[i[0]] for i in similar_title]\n",
    "    return similar_title"
   ]
  },
  {
   "cell_type": "code",
   "execution_count": 29,
   "id": "d90c2931",
   "metadata": {},
   "outputs": [
    {
     "data": {
      "text/plain": [
       "['Terminator 2: Judgment Day (1991)',\n",
       " 'Matrix, The (1999)',\n",
       " 'Total Recall (1990)',\n",
       " 'Jurassic Park (1993)',\n",
       " 'Terminator, The (1984)',\n",
       " 'Men in Black (1997)',\n",
       " 'Fugitive, The (1993)',\n",
       " 'Braveheart (1995)',\n",
       " 'Hunt for Red October, The (1990)',\n",
       " 'Silence of the Lambs, The (1991)   ']"
      ]
     },
     "execution_count": 29,
     "metadata": {},
     "output_type": "execute_result"
    }
   ],
   "source": [
    "get_similar_title('Terminator 2: Judgment Day (1991)')"
   ]
  },
  {
   "cell_type": "markdown",
   "id": "def0b7cd",
   "metadata": {},
   "source": [
    "## 8) 내가 가장 좋아할 만한 영화들을 추천받아 봅시다.\n",
    "\n",
    "* AlternatingLeastSquares 클래스에 구현되어 있는 recommend 메서드를 통하여 제가 좋아할 만한 영화를 추천받습니다.  \n",
    "* filter_already_liked_items 는 유저가 이미 평가한 아이템은 제외하는 Argument입니다."
   ]
  },
  {
   "cell_type": "code",
   "execution_count": 30,
   "id": "55547099",
   "metadata": {},
   "outputs": [
    {
     "data": {
      "text/plain": [
       "[(107, 0.48648062),\n",
       " (62, 0.3562358),\n",
       " (60, 0.32124487),\n",
       " (141, 0.2731817),\n",
       " (200, 0.25828737),\n",
       " (75, 0.22319573),\n",
       " (121, 0.22241783),\n",
       " (670, 0.2203012),\n",
       " (236, 0.20305148),\n",
       " (87, 0.2011298),\n",
       " (99, 0.19584593),\n",
       " (145, 0.1940937),\n",
       " (375, 0.19324929),\n",
       " (64, 0.1889112),\n",
       " (44, 0.18241107),\n",
       " (82, 0.17498057),\n",
       " (317, 0.16893777),\n",
       " (220, 0.16726539),\n",
       " (233, 0.16315898),\n",
       " (51, 0.15992509)]"
      ]
     },
     "execution_count": 30,
     "metadata": {},
     "output_type": "execute_result"
    }
   ],
   "source": [
    "user = user_to_idx['changmin']\n",
    "# recommend에서는 user*item CSR Matrix를 받습니다.\n",
    "title_recommended = als_model.recommend(user, csr_data, N=20, filter_already_liked_items=True)\n",
    "title_recommended"
   ]
  },
  {
   "cell_type": "code",
   "execution_count": 31,
   "id": "9085307d",
   "metadata": {},
   "outputs": [
    {
     "data": {
      "text/plain": [
       "['Jurassic Park (1993)',\n",
       " 'Total Recall (1990)',\n",
       " 'Star Wars: Episode I - The Phantom Menace (1999)',\n",
       " 'Fugitive, The (1993)',\n",
       " 'Terminator, The (1984)',\n",
       " 'Hunt for Red October, The (1990)',\n",
       " 'Silence of the Lambs, The (1991)',\n",
       " 'Galaxy Quest (1999)',\n",
       " 'Speed (1994)',\n",
       " 'Braveheart (1995)',\n",
       " 'American Beauty (1999)',\n",
       " 'Fifth Element, The (1997)',\n",
       " 'Face/Off (1997)',\n",
       " 'Star Wars: Episode VI - Return of the Jedi (1983)',\n",
       " 'Star Wars: Episode IV - A New Hope (1977)',\n",
       " 'Lost World: Jurassic Park, The (1997)',\n",
       " 'Twelve Monkeys (1995)',\n",
       " 'Seven (Se7en) (1995)',\n",
       " 'Usual Suspects, The (1995)',\n",
       " 'Fargo (1996)']"
      ]
     },
     "execution_count": 31,
     "metadata": {},
     "output_type": "execute_result"
    }
   ],
   "source": [
    "[idx_to_title[i[0]] for i in title_recommended]"
   ]
  },
  {
   "cell_type": "code",
   "execution_count": 32,
   "id": "bb4b9f69",
   "metadata": {},
   "outputs": [],
   "source": [
    "Speed_1994 = title_to_idx['Speed (1994)']\n",
    "explain = als_model.explain(user, csr_data, itemid=Speed_1994)"
   ]
  },
  {
   "cell_type": "code",
   "execution_count": 33,
   "id": "5d95e41f",
   "metadata": {
    "scrolled": true
   },
   "outputs": [
    {
     "data": {
      "text/plain": [
       "[('Terminator 2: Judgment Day (1991)', 0.06359672042064606),\n",
       " ('Matrix, The (1999)', 0.06250124272624165),\n",
       " ('Sixth Sense, The (1999)', 0.039702327159538545),\n",
       " ('Men in Black (1997)', 0.033405467482217815),\n",
       " ('Silence of the Lambs, The (1991)   ', 4.8249613291653876e-05)]"
      ]
     },
     "execution_count": 33,
     "metadata": {},
     "output_type": "execute_result"
    }
   ],
   "source": [
    "[(idx_to_title[i[0]], i[1]) for i in explain[1]]"
   ]
  }
 ],
 "metadata": {
  "kernelspec": {
   "display_name": "Python 3 (ipykernel)",
   "language": "python",
   "name": "python3"
  },
  "language_info": {
   "codemirror_mode": {
    "name": "ipython",
    "version": 3
   },
   "file_extension": ".py",
   "mimetype": "text/x-python",
   "name": "python",
   "nbconvert_exporter": "python",
   "pygments_lexer": "ipython3",
   "version": "3.9.7"
  }
 },
 "nbformat": 4,
 "nbformat_minor": 5
}

